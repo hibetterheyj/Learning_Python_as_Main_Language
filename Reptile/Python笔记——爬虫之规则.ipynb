{
 "cells": [
  {
   "cell_type": "markdown",
   "metadata": {
    "toc": "true"
   },
   "source": [
    " # Table of Contents\n",
    "<div class=\"toc\" style=\"margin-top: 1em;\"><ul class=\"toc-item\" id=\"toc-level0\"><li><span><a href=\"http://localhost:8888/notebooks/Desktop/MyJupyterNotebook/Reptile/Python%E7%AC%94%E8%AE%B0%E2%80%94%E2%80%94%E7%88%AC%E8%99%AB%E4%B9%8B%E8%A7%84%E5%88%99.ipynb#Requests库入门\" data-toc-modified-id=\"Requests库入门-1\"><span class=\"toc-item-num\">1&nbsp;&nbsp;</span>Requests库入门</a></span><ul class=\"toc-item\"><li><span><a href=\"http://localhost:8888/notebooks/Desktop/MyJupyterNotebook/Reptile/Python%E7%AC%94%E8%AE%B0%E2%80%94%E2%80%94%E7%88%AC%E8%99%AB%E4%B9%8B%E8%A7%84%E5%88%99.ipynb#Requests库安装\" data-toc-modified-id=\"Requests库安装-1.1\"><span class=\"toc-item-num\">1.1&nbsp;&nbsp;</span>Requests库安装</a></span></li><li><span><a href=\"http://localhost:8888/notebooks/Desktop/MyJupyterNotebook/Reptile/Python%E7%AC%94%E8%AE%B0%E2%80%94%E2%80%94%E7%88%AC%E8%99%AB%E4%B9%8B%E8%A7%84%E5%88%99.ipynb#Requests库的get()方法\" data-toc-modified-id=\"Requests库的get()方法-1.2\"><span class=\"toc-item-num\">1.2&nbsp;&nbsp;</span>Requests库的get()方法</a></span></li><li><span><a href=\"http://localhost:8888/notebooks/Desktop/MyJupyterNotebook/Reptile/Python%E7%AC%94%E8%AE%B0%E2%80%94%E2%80%94%E7%88%AC%E8%99%AB%E4%B9%8B%E8%A7%84%E5%88%99.ipynb#抓取代码通用框架\" data-toc-modified-id=\"抓取代码通用框架-1.3\"><span class=\"toc-item-num\">1.3&nbsp;&nbsp;</span>抓取代码通用框架</a></span></li><li><span><a href=\"http://localhost:8888/notebooks/Desktop/MyJupyterNotebook/Reptile/Python%E7%AC%94%E8%AE%B0%E2%80%94%E2%80%94%E7%88%AC%E8%99%AB%E4%B9%8B%E8%A7%84%E5%88%99.ipynb#HTTP协议以及Requests库方法\" data-toc-modified-id=\"HTTP协议以及Requests库方法-1.4\"><span class=\"toc-item-num\">1.4&nbsp;&nbsp;</span>HTTP协议以及Requests库方法</a></span></li><li><span><a href=\"http://localhost:8888/notebooks/Desktop/MyJupyterNotebook/Reptile/Python%E7%AC%94%E8%AE%B0%E2%80%94%E2%80%94%E7%88%AC%E8%99%AB%E4%B9%8B%E8%A7%84%E5%88%99.ipynb#Requests库主要方法解析\" data-toc-modified-id=\"Requests库主要方法解析-1.5\"><span class=\"toc-item-num\">1.5&nbsp;&nbsp;</span>Requests库主要方法解析</a></span><ul class=\"toc-item\"><li><span><a href=\"http://localhost:8888/notebooks/Desktop/MyJupyterNotebook/Reptile/Python%E7%AC%94%E8%AE%B0%E2%80%94%E2%80%94%E7%88%AC%E8%99%AB%E4%B9%8B%E8%A7%84%E5%88%99.ipynb#request方法\" data-toc-modified-id=\"request方法-1.5.1\"><span class=\"toc-item-num\">1.5.1&nbsp;&nbsp;</span>request方法</a></span></li><li><span><a href=\"http://localhost:8888/notebooks/Desktop/MyJupyterNotebook/Reptile/Python%E7%AC%94%E8%AE%B0%E2%80%94%E2%80%94%E7%88%AC%E8%99%AB%E4%B9%8B%E8%A7%84%E5%88%99.ipynb#get方法（重点掌握！）\" data-toc-modified-id=\"get方法（重点掌握！）-1.5.2\"><span class=\"toc-item-num\">1.5.2&nbsp;&nbsp;</span>get方法（重点掌握！）</a></span></li><li><span><a href=\"http://localhost:8888/notebooks/Desktop/MyJupyterNotebook/Reptile/Python%E7%AC%94%E8%AE%B0%E2%80%94%E2%80%94%E7%88%AC%E8%99%AB%E4%B9%8B%E8%A7%84%E5%88%99.ipynb#其他方法\" data-toc-modified-id=\"其他方法-1.5.3\"><span class=\"toc-item-num\">1.5.3&nbsp;&nbsp;</span>其他方法</a></span></li></ul></li><li><span><a href=\"http://localhost:8888/notebooks/Desktop/MyJupyterNotebook/Reptile/Python%E7%AC%94%E8%AE%B0%E2%80%94%E2%80%94%E7%88%AC%E8%99%AB%E4%B9%8B%E8%A7%84%E5%88%99.ipynb#单元小练习\" data-toc-modified-id=\"单元小练习-1.6\"><span class=\"toc-item-num\">1.6&nbsp;&nbsp;</span>单元小练习</a></span></li></ul></li><li><span><a href=\"http://localhost:8888/notebooks/Desktop/MyJupyterNotebook/Reptile/Python%E7%AC%94%E8%AE%B0%E2%80%94%E2%80%94%E7%88%AC%E8%99%AB%E4%B9%8B%E8%A7%84%E5%88%99.ipynb#网络爬虫的盗亦有道\" data-toc-modified-id=\"网络爬虫的盗亦有道-2\"><span class=\"toc-item-num\">2&nbsp;&nbsp;</span>网络爬虫的盗亦有道</a></span><ul class=\"toc-item\"><li><span><a href=\"http://localhost:8888/notebooks/Desktop/MyJupyterNotebook/Reptile/Python%E7%AC%94%E8%AE%B0%E2%80%94%E2%80%94%E7%88%AC%E8%99%AB%E4%B9%8B%E8%A7%84%E5%88%99.ipynb#网络爬虫引发的问题\" data-toc-modified-id=\"网络爬虫引发的问题-2.1\"><span class=\"toc-item-num\">2.1&nbsp;&nbsp;</span>网络爬虫引发的问题</a></span></li><li><span><a href=\"http://localhost:8888/notebooks/Desktop/MyJupyterNotebook/Reptile/Python%E7%AC%94%E8%AE%B0%E2%80%94%E2%80%94%E7%88%AC%E8%99%AB%E4%B9%8B%E8%A7%84%E5%88%99.ipynb#Robots协议\" data-toc-modified-id=\"Robots协议-2.2\"><span class=\"toc-item-num\">2.2&nbsp;&nbsp;</span>Robots协议</a></span></li><li><span><a href=\"http://localhost:8888/notebooks/Desktop/MyJupyterNotebook/Reptile/Python%E7%AC%94%E8%AE%B0%E2%80%94%E2%80%94%E7%88%AC%E8%99%AB%E4%B9%8B%E8%A7%84%E5%88%99.ipynb#Robots协议的遵守方式\" data-toc-modified-id=\"Robots协议的遵守方式-2.3\"><span class=\"toc-item-num\">2.3&nbsp;&nbsp;</span>Robots协议的遵守方式</a></span></li></ul></li><li><span><a href=\"http://localhost:8888/notebooks/Desktop/MyJupyterNotebook/Reptile/Python%E7%AC%94%E8%AE%B0%E2%80%94%E2%80%94%E7%88%AC%E8%99%AB%E4%B9%8B%E8%A7%84%E5%88%99.ipynb#Requests网络爬虫实战\" data-toc-modified-id=\"Requests网络爬虫实战-3\"><span class=\"toc-item-num\">3&nbsp;&nbsp;</span>Requests网络爬虫实战</a></span><ul class=\"toc-item\"><li><span><a href=\"http://localhost:8888/notebooks/Desktop/MyJupyterNotebook/Reptile/Python%E7%AC%94%E8%AE%B0%E2%80%94%E2%80%94%E7%88%AC%E8%99%AB%E4%B9%8B%E8%A7%84%E5%88%99.ipynb#实例1：京东商品页面爬取\" data-toc-modified-id=\"实例1：京东商品页面爬取-3.1\"><span class=\"toc-item-num\">3.1&nbsp;&nbsp;</span>实例1：京东商品页面爬取</a></span></li><li><span><a href=\"http://localhost:8888/notebooks/Desktop/MyJupyterNotebook/Reptile/Python%E7%AC%94%E8%AE%B0%E2%80%94%E2%80%94%E7%88%AC%E8%99%AB%E4%B9%8B%E8%A7%84%E5%88%99.ipynb#亚马逊商品页面爬取\" data-toc-modified-id=\"亚马逊商品页面爬取-3.2\"><span class=\"toc-item-num\">3.2&nbsp;&nbsp;</span>亚马逊商品页面爬取</a></span></li><li><span><a href=\"http://localhost:8888/notebooks/Desktop/MyJupyterNotebook/Reptile/Python%E7%AC%94%E8%AE%B0%E2%80%94%E2%80%94%E7%88%AC%E8%99%AB%E4%B9%8B%E8%A7%84%E5%88%99.ipynb#百度/360搜索关键字提交\" data-toc-modified-id=\"百度/360搜索关键字提交-3.3\"><span class=\"toc-item-num\">3.3&nbsp;&nbsp;</span>百度/360搜索关键字提交</a></span></li><li><span><a href=\"http://localhost:8888/notebooks/Desktop/MyJupyterNotebook/Reptile/Python%E7%AC%94%E8%AE%B0%E2%80%94%E2%80%94%E7%88%AC%E8%99%AB%E4%B9%8B%E8%A7%84%E5%88%99.ipynb#网络图片的爬取和储存\" data-toc-modified-id=\"网络图片的爬取和储存-3.4\"><span class=\"toc-item-num\">3.4&nbsp;&nbsp;</span>网络图片的爬取和储存</a></span></li><li><span><a href=\"http://localhost:8888/notebooks/Desktop/MyJupyterNotebook/Reptile/Python%E7%AC%94%E8%AE%B0%E2%80%94%E2%80%94%E7%88%AC%E8%99%AB%E4%B9%8B%E8%A7%84%E5%88%99.ipynb#IP地址归属地的自动查询\" data-toc-modified-id=\"IP地址归属地的自动查询-3.5\"><span class=\"toc-item-num\">3.5&nbsp;&nbsp;</span>IP地址归属地的自动查询</a></span></li></ul></li></ul></div>"
   ]
  },
  {
   "cell_type": "markdown",
   "metadata": {},
   "source": [
    "# Requests库入门"
   ]
  },
  {
   "cell_type": "markdown",
   "metadata": {},
   "source": [
    "## Requests库安装"
   ]
  },
  {
   "cell_type": "markdown",
   "metadata": {},
   "source": [
    "- 安装\n",
    "```\n",
    "pip install requests\n",
    "```"
   ]
  },
  {
   "cell_type": "markdown",
   "metadata": {},
   "source": [
    "- 验证"
   ]
  },
  {
   "cell_type": "code",
   "execution_count": 18,
   "metadata": {},
   "outputs": [
    {
     "data": {
      "text/plain": [
       "200"
      ]
     },
     "execution_count": 18,
     "metadata": {},
     "output_type": "execute_result"
    }
   ],
   "source": [
    "import requests\n",
    "r = requests.get(\"http://www.baidu.com\")\n",
    "r.status_code"
   ]
  },
  {
   "cell_type": "code",
   "execution_count": 8,
   "metadata": {},
   "outputs": [
    {
     "data": {
      "text/plain": [
       "'<!DOCTYPE html>\\r\\n<!--STATUS OK--><html> <head><meta http-equiv=content-type content=text/html;charset=utf-8><meta http-equiv=X-UA-Compatible content=IE=Edge><meta content=always name=referrer><link rel=stylesheet type=text/css href=http://s1.bdstatic.com/r/www/cache/bdorz/baidu.min.css><title>百度一下，你就知道</title></head> <body link=#0000cc> <div id=wrapper> <div id=head> <div class=head_wrapper> <div class=s_form> <div class=s_form_wrapper> <div id=lg> <img hidefocus=true src=//www.baidu.com/img/bd_logo1.png width=270 height=129> </div> <form id=form name=f action=//www.baidu.com/s class=fm> <input type=hidden name=bdorz_come value=1> <input type=hidden name=ie value=utf-8> <input type=hidden name=f value=8> <input type=hidden name=rsv_bp value=1> <input type=hidden name=rsv_idx value=1> <input type=hidden name=tn value=baidu><span class=\"bg s_ipt_wr\"><input id=kw name=wd class=s_ipt value maxlength=255 autocomplete=off autofocus></span><span class=\"bg s_btn_wr\"><input type=submit id=su value=百度一下 class=\"bg s_btn\"></span> </form> </div> </div> <div id=u1> <a href=http://news.baidu.com name=tj_trnews class=mnav>新闻</a> <a href=http://www.hao123.com name=tj_trhao123 class=mnav>hao123</a> <a href=http://map.baidu.com name=tj_trmap class=mnav>地图</a> <a href=http://v.baidu.com name=tj_trvideo class=mnav>视频</a> <a href=http://tieba.baidu.com name=tj_trtieba class=mnav>贴吧</a> <noscript> <a href=http://www.baidu.com/bdorz/login.gif?login&amp;tpl=mn&amp;u=http%3A%2F%2Fwww.baidu.com%2f%3fbdorz_come%3d1 name=tj_login class=lb>登录</a> </noscript> <script>document.write(\\'<a href=\"http://www.baidu.com/bdorz/login.gif?login&tpl=mn&u=\\'+ encodeURIComponent(window.location.href+ (window.location.search === \"\" ? \"?\" : \"&\")+ \"bdorz_come=1\")+ \\'\" name=\"tj_login\" class=\"lb\">登录</a>\\');</script> <a href=//www.baidu.com/more/ name=tj_briicon class=bri style=\"display: block;\">更多产品</a> </div> </div> </div> <div id=ftCon> <div id=ftConw> <p id=lh> <a href=http://home.baidu.com>关于百度</a> <a href=http://ir.baidu.com>About Baidu</a> </p> <p id=cp>&copy;2017&nbsp;Baidu&nbsp;<a href=http://www.baidu.com/duty/>使用百度前必读</a>&nbsp; <a href=http://jianyi.baidu.com/ class=cp-feedback>意见反馈</a>&nbsp;京ICP证030173号&nbsp; <img src=//www.baidu.com/img/gs.gif> </p> </div> </div> </div> </body> </html>\\r\\n'"
      ]
     },
     "execution_count": 8,
     "metadata": {},
     "output_type": "execute_result"
    }
   ],
   "source": [
    "r.encoding = 'utf-8'\n",
    "r.text"
   ]
  },
  {
   "cell_type": "markdown",
   "metadata": {},
   "source": [
    "- 七种主要方法\n",
    "\n",
    "| 方法     |         说明           |\n",
    "|:--------------:|---------------------------------------|\n",
    "|request|构造一个请求，支撑以下方法|\n",
    "|get|获取html网页的主要方法，对应于http的GET|\n",
    "|head|获取html头信息的主要方法，对应于http的HEAD|\n",
    "|post|提交post请求的方法，对应于http的POST|\n",
    "|put|提交put请求的方法，对应于http的PUT|\n",
    "|patch|提出局部修改请求，对应于http的PATCH|\n",
    "|delete|提交删除请求，对应于http的DELETE|"
   ]
  },
  {
   "cell_type": "markdown",
   "metadata": {},
   "source": [
    "## Requests库的get()方法"
   ]
  },
  {
   "cell_type": "markdown",
   "metadata": {},
   "source": [
    "- 最基本方法\n",
    "```\n",
    "requests.get(url, params = None, **kwargs)\n",
    "```\n",
    "构建一个向服务器请求资源的**Requests**对象\n",
    "返回一个包含服务器资源的**Response**对象"
   ]
  },
  {
   "cell_type": "markdown",
   "metadata": {},
   "source": [
    "1.  `url`: 拟获取页面的url链接\n",
    "2. `params`: 额外参数，可以为字典或字节流格式\n",
    "3. `** kwargs`: 12个控制访问参数"
   ]
  },
  {
   "cell_type": "markdown",
   "metadata": {},
   "source": [
    "- Response对象"
   ]
  },
  {
   "cell_type": "code",
   "execution_count": 11,
   "metadata": {},
   "outputs": [
    {
     "name": "stdout",
     "output_type": "stream",
     "text": [
      "200\n"
     ]
    }
   ],
   "source": [
    "import requests\n",
    "r = requests.get(\"http://www.baidu.com\")\n",
    "print(r.status_code)"
   ]
  },
  {
   "cell_type": "markdown",
   "metadata": {},
   "source": [
    "`r.status_code` 返回Response的**状态码**，只有当返回200时表示“返回成功”"
   ]
  },
  {
   "cell_type": "code",
   "execution_count": 12,
   "metadata": {},
   "outputs": [
    {
     "data": {
      "text/plain": [
       "requests.models.Response"
      ]
     },
     "execution_count": 12,
     "metadata": {},
     "output_type": "execute_result"
    }
   ],
   "source": [
    "type(r)"
   ]
  },
  {
   "cell_type": "markdown",
   "metadata": {},
   "source": [
    "表示是一个名叫“Response”的类"
   ]
  },
  {
   "cell_type": "code",
   "execution_count": 13,
   "metadata": {},
   "outputs": [
    {
     "data": {
      "text/plain": [
       "{'Server': 'bfe/1.0.8.18', 'Date': 'Tue, 24 Oct 2017 16:05:58 GMT', 'Content-Type': 'text/html', 'Last-Modified': 'Mon, 23 Jan 2017 13:28:36 GMT', 'Transfer-Encoding': 'chunked', 'Connection': 'Keep-Alive', 'Cache-Control': 'private, no-cache, no-store, proxy-revalidate, no-transform', 'Pragma': 'no-cache', 'Set-Cookie': 'BDORZ=27315; max-age=86400; domain=.baidu.com; path=/', 'Content-Encoding': 'gzip'}"
      ]
     },
     "execution_count": 13,
     "metadata": {},
     "output_type": "execute_result"
    }
   ],
   "source": [
    "r.headers"
   ]
  },
  {
   "cell_type": "markdown",
   "metadata": {},
   "source": [
    "返回GET请求获得页面的**头部信息**"
   ]
  },
  {
   "cell_type": "markdown",
   "metadata": {},
   "source": [
    "- Response对象的属性\n",
    "\n",
    "| 属性     |         说明           |\n",
    "|:--------------:|--------------------------------------------------------------|\n",
    "|status_code|HTTP请求的返回状态，200表示连接成功，404表示失败|\n",
    "|text|获取url对应的页面内容）字符串形式）|\n",
    "|encoding|猜测的响应内容编码模式|\n",
    "|apparent_encoding|从响应内容分析出的编码模式（备选编码）|\n",
    "|content|响应内容的二进制模式|"
   ]
  },
  {
   "cell_type": "markdown",
   "metadata": {},
   "source": [
    "先用`r.status_code`来判断是否为**200**，若是则进一步操作"
   ]
  },
  {
   "cell_type": "code",
   "execution_count": 22,
   "metadata": {},
   "outputs": [
    {
     "name": "stdout",
     "output_type": "stream",
     "text": [
      "r.encoding is ISO-8859-1\n",
      "r.apparent_encoding is utf-8\n"
     ]
    }
   ],
   "source": [
    "import requests\n",
    "r = requests.get(\"http://www.baidu.com\")\n",
    "print(\"r.encoding is\", r.encoding)\n",
    "print(\"r.apparent_encoding is\", r.apparent_encoding)"
   ]
  },
  {
   "cell_type": "markdown",
   "metadata": {},
   "source": [
    "如果不能正确解码，那么可以先进行`r.encoding = r.apparent_encoding`"
   ]
  },
  {
   "cell_type": "markdown",
   "metadata": {},
   "source": [
    "- 我自己的小尝试（以https://hibetterheyj.github.io/ 为例）"
   ]
  },
  {
   "cell_type": "code",
   "execution_count": 23,
   "metadata": {},
   "outputs": [
    {
     "data": {
      "text/plain": [
       "200"
      ]
     },
     "execution_count": 23,
     "metadata": {},
     "output_type": "execute_result"
    }
   ],
   "source": [
    "import requests\n",
    "r_myweb = requests.get(\"https://hibetterheyj.github.io/\")\n",
    "r_myweb.status_code"
   ]
  },
  {
   "cell_type": "code",
   "execution_count": 25,
   "metadata": {},
   "outputs": [
    {
     "data": {
      "text/plain": [
       "'utf-8'"
      ]
     },
     "execution_count": 25,
     "metadata": {},
     "output_type": "execute_result"
    }
   ],
   "source": [
    "r_myweb.encoding"
   ]
  },
  {
   "cell_type": "code",
   "execution_count": 26,
   "metadata": {},
   "outputs": [
    {
     "data": {
      "text/plain": [
       "'<!DOCTYPE html>\\n<html style=\"display: none;\" lang=\"zh\">\\n    <head>\\n    <meta charset=\"utf-8\">\\n    <!--\\n        © Material Theme\\n        https://github.com/viosey/hexo-theme-material\\n        Version: 1.5.0 -->\\n    <script>\\n        window.materialVersion = \"1.5.0\"\\n        // Delete localstorage with these tags\\n        window.oldVersion = [\\n            \\'codestartv1\\',\\n            \\'1.3.4\\',\\n            \\'1.4.0\\',\\n            \\'1.4.0b1\\'\\n        ]\\n    </script>\\n\\n    <!-- dns prefetch -->\\n    <meta http-equiv=\"x-dns-prefetch-control\" content=\"on\">\\n\\n\\n\\n    <link rel=\"dns-prefetch\" href=\"https://busuanzi.ibruce.info\"/>\\n\\n\\n\\n\\n\\n\\n\\n\\n\\n\\n\\n\\n    <!-- Title -->\\n    \\n    <title>\\n        \\n        PhilHE\\n    </title>\\n\\n    <!-- Meta & Info -->\\n    <meta http-equiv=\"X-UA-Compatible\" content=\"IE=Edge,chrome=1\">\\n    <meta name=\"viewport\" content=\"width=device-width, initial-scale=1, user-scalable=no\">\\n    <meta name=\"format-detection\" content=\"telephone=no\"/>\\n    <meta name=\"theme-color\" content=\"#FEDFE1\">\\n    <meta name=\"author\" content=\"PhilHE\">\\n    <meta name=\"description\" itemprop=\"description\" content=\"这是一个利用Hexo搭建的博客\">\\n    <meta name=\"keywords\" content=\"\">\\n\\n    <!-- Import lsloader -->\\n    <script>(function(){window.lsloader={jsRunSequence:[],jsnamemap:{},cssnamemap:{}};lsloader.removeLS=function(key){try{localStorage.removeItem(key)}catch(e){}};lsloader.setLS=function(key,val){try{localStorage.setItem(key,val)}catch(e){}};lsloader.getLS=function(key){var val=\"\";try{val=localStorage.getItem(key)}catch(e){val=\"\"}return val};versionString=\"/*\"+(window.materialVersion||\"unknownVersion\")+\"*/\";lsloader.clean=function(){try{var keys=[];for(var i=0;i<localStorage.length;i++){keys.push(localStorage.key(i))}keys.forEach(function(key){var data=lsloader.getLS(key);if(window.oldVersion){var remove=window.oldVersion.reduce(function(p,c){return p||data.indexOf(\"/*\"+c+\"*/\")!==-1},false);if(remove){lsloader.removeLS(key)}}})}catch(e){}};lsloader.clean();lsloader.load=function(jsname,jspath,cssonload,isJs){if(typeof cssonload===\"boolean\"){isJs=cssonload;cssonload=undefined}isJs=isJs||false;cssonload=cssonload||function(){};var code;code=this.getLS(jsname);if(code&&code.indexOf(versionString)===-1){this.removeLS(jsname);this.requestResource(jsname,jspath,cssonload,isJs);return}if(code){var versionNumber=code.split(versionString)[0];if(versionNumber!=jspath){console.log(\"reload:\"+jspath);this.removeLS(jsname);this.requestResource(jsname,jspath,cssonload,isJs);return}code=code.split(versionString)[1];if(isJs){this.jsRunSequence.push({name:jsname,code:code});this.runjs(jspath,jsname,code)}else{document.getElementById(jsname).appendChild(document.createTextNode(code));cssonload()}}else{this.requestResource(jsname,jspath,cssonload,isJs)}};lsloader.requestResource=function(name,path,cssonload,isJs){var that=this;if(isJs){this.iojs(path,name,function(path,name,code){that.setLS(name,path+versionString+code);that.runjs(path,name,code)})}else{this.iocss(path,name,function(code){document.getElementById(name).appendChild(document.createTextNode(code));that.setLS(name,path+versionString+code)},cssonload)}};lsloader.iojs=function(path,jsname,callback){var that=this;that.jsRunSequence.push({name:jsname,code:\"\"});try{var xhr=new XMLHttpRequest;xhr.open(\"get\",path,true);xhr.onreadystatechange=function(){if(xhr.readyState==4){if(xhr.status>=200&&xhr.status<300||xhr.status==304){if(xhr.response!=\"\"){callback(path,jsname,xhr.response);return}}that.jsfallback(path,jsname)}};xhr.send(null)}catch(e){that.jsfallback(path,jsname)}};lsloader.iocss=function(path,jsname,callback,cssonload){var that=this;try{var xhr=new XMLHttpRequest;xhr.open(\"get\",path,true);xhr.onreadystatechange=function(){if(xhr.readyState==4){if(xhr.status>=200&&xhr.status<300||xhr.status==304){if(xhr.response!=\"\"){callback(xhr.response);cssonload();return}}that.cssfallback(path,jsname,cssonload)}};xhr.send(null)}catch(e){that.cssfallback(path,jsname,cssonload)}};lsloader.iofonts=function(path,jsname,callback,cssonload){var that=this;try{var xhr=new XMLHttpRequest;xhr.open(\"get\",path,true);xhr.onreadystatechange=function(){if(xhr.readyState==4){if(xhr.status>=200&&xhr.status<300||xhr.status==304){if(xhr.response!=\"\"){callback(xhr.response);cssonload();return}}that.cssfallback(path,jsname,cssonload)}};xhr.send(null)}catch(e){that.cssfallback(path,jsname,cssonload)}};lsloader.runjs=function(path,name,code){if(!!name&&!!code){for(var k in this.jsRunSequence){if(this.jsRunSequence[k].name==name){this.jsRunSequence[k].code=code}}}if(!!this.jsRunSequence[0]&&!!this.jsRunSequence[0].code&&this.jsRunSequence[0].status!=\"failed\"){var script=document.createElement(\"script\");script.appendChild(document.createTextNode(this.jsRunSequence[0].code));script.type=\"text/javascript\";document.getElementsByTagName(\"head\")[0].appendChild(script);this.jsRunSequence.shift();if(this.jsRunSequence.length>0){this.runjs()}}else if(!!this.jsRunSequence[0]&&this.jsRunSequence[0].status==\"failed\"){var that=this;var script=document.createElement(\"script\");script.src=this.jsRunSequence[0].path;script.type=\"text/javascript\";this.jsRunSequence[0].status=\"loading\";script.onload=function(){that.jsRunSequence.shift();if(that.jsRunSequence.length>0){that.runjs()}};document.body.appendChild(script)}};lsloader.tagLoad=function(path,name){this.jsRunSequence.push({name:name,code:\"\",path:path,status:\"failed\"});this.runjs()};lsloader.jsfallback=function(path,name){if(!!this.jsnamemap[name]){return}else{this.jsnamemap[name]=name}for(var k in this.jsRunSequence){if(this.jsRunSequence[k].name==name){this.jsRunSequence[k].code=\"\";this.jsRunSequence[k].status=\"failed\";this.jsRunSequence[k].path=path}}this.runjs()};lsloader.cssfallback=function(path,name,cssonload){if(!!this.cssnamemap[name]){return}else{this.cssnamemap[name]=1}var link=document.createElement(\"link\");link.type=\"text/css\";link.href=path;link.rel=\"stylesheet\";link.onload=link.onerror=cssonload;var root=document.getElementsByTagName(\"script\")[0];root.parentNode.insertBefore(link,root)};lsloader.runInlineScript=function(scriptId,codeId){var code=document.getElementById(codeId).innerText;this.jsRunSequence.push({name:scriptId,code:code});this.runjs()};lsloader.loadCombo=function(jslist){var updateList=\"\";var requestingModules={};for(var k in jslist){var LS=this.getLS(jslist[k].name);if(!!LS){var version=LS.split(versionString)[0];var code=LS.split(versionString)[1]}else{var version=\"\"}if(version==jslist[k].path){this.jsRunSequence.push({name:jslist[k].name,code:code,path:jslist[k].path})}else{this.jsRunSequence.push({name:jslist[k].name,code:null,path:jslist[k].path,status:\"comboloading\"});requestingModules[jslist[k].name]=true;updateList+=(updateList==\"\"?\"\":\";\")+jslist[k].path}}var that=this;if(!!updateList){var xhr=new XMLHttpRequest;xhr.open(\"get\",combo+updateList,true);xhr.onreadystatechange=function(){if(xhr.readyState==4){if(xhr.status>=200&&xhr.status<300||xhr.status==304){if(xhr.response!=\"\"){that.runCombo(xhr.response,requestingModules);return}}else{for(var i in that.jsRunSequence){if(requestingModules[that.jsRunSequence[i].name]){that.jsRunSequence[i].status=\"failed\"}}that.runjs()}}};xhr.send(null)}this.runjs()};lsloader.runCombo=function(comboCode,requestingModules){comboCode=comboCode.split(\"/*combojs*/\");comboCode.shift();for(var k in this.jsRunSequence){if(!!requestingModules[this.jsRunSequence[k].name]&&!!comboCode[0]){this.jsRunSequence[k].status=\"comboJS\";this.jsRunSequence[k].code=comboCode[0];this.setLS(this.jsRunSequence[k].name,this.jsRunSequence[k].path+versionString+comboCode[0]);comboCode.shift()}}this.runjs()}})();</script>\\n\\n    <!-- Import queue -->\\n    <script>function Queue(){this.dataStore=[];this.offer=b;this.poll=d;this.execNext=a;this.debug=false;this.startDebug=c;function b(e){if(this.debug){console.log(\"Offered a Queued Function.\")}if(typeof e===\"function\"){this.dataStore.push(e)}else{console.log(\"You must offer a function.\")}}function d(){if(this.debug){console.log(\"Polled a Queued Function.\")}return this.dataStore.shift()}function a(){var e=this.poll();if(e!==undefined){if(this.debug){console.log(\"Run a Queued Function.\")}e()}}function c(){this.debug=true}}var queue=new Queue();</script>\\n\\n    <!-- Favicons -->\\n    <link rel=\"icon shortcut\" type=\"image/ico\" href=\"/img/favicon(1).png\">\\n    <link rel=\"icon\" sizes=\"192x192\" href=\"/img/favicon(1).png\">\\n    <link rel=\"apple-touch-icon\" href=\"/img/favicon(1).png\">\\n\\n    <!--iOS -->\\n    <meta name=\"apple-mobile-web-app-title\" content=\"Title\">\\n    <meta name=\"apple-mobile-web-app-capable\" content=\"yes\">\\n    <meta name=\"apple-mobile-web-app-status-bar-style\" content=\"black\">\\n    <meta name=\"HandheldFriendly\" content=\"True\">\\n    <meta name=\"MobileOptimized\" content=\"480\">\\n\\n    <!-- Add to homescreen for Chrome on Android -->\\n    <meta name=\"mobile-web-app-capable\" content=\"yes\">\\n\\n    <!-- Add to homescreen for Safari on iOS -->\\n    <meta name=\"apple-mobile-web-app-capable\" content=\"yes\">\\n    <meta name=\"apple-mobile-web-app-status-bar-style\" content=\"black\">\\n    <meta name=\"apple-mobile-web-app-title\" content=\"PhilHE\">\\n\\n    <!-- Site Verification -->\\n    \\n    \\n\\n    <!-- RSS -->\\n    \\n\\n    <!--[if lte IE 9]>\\n        <link rel=\"stylesheet\" href=\"/css/ie-blocker.css\">\\n\\n        \\n            <script src=\"/js/ie-blocker.zhCN.js\"></script>\\n        \\n    <![endif]-->\\n\\n    <!-- Import CSS -->\\n    \\n        <style id=\"material_css\"></style><script>if(typeof window.lsLoadCSSMaxNums === \"undefined\")window.lsLoadCSSMaxNums = 0;window.lsLoadCSSMaxNums++;lsloader.load(\"material_css\",\"/css/material.min.css?Z7a72R1E4SxzBKR/WGctOA==\",function(){if(typeof window.lsLoadCSSNums === \"undefined\")window.lsLoadCSSNums = 0;window.lsLoadCSSNums++;if(window.lsLoadCSSNums == window.lsLoadCSSMaxNums)document.documentElement.style.display=\"\";}, false)</script>\\n        <style id=\"style_css\"></style><script>if(typeof window.lsLoadCSSMaxNums === \"undefined\")window.lsLoadCSSMaxNums = 0;window.lsLoadCSSMaxNums++;lsloader.load(\"style_css\",\"/css/style.min.css?MKetZV3cUTfDxvMffaOezg==\",function(){if(typeof window.lsLoadCSSNums === \"undefined\")window.lsLoadCSSNums = 0;window.lsLoadCSSNums++;if(window.lsLoadCSSNums == window.lsLoadCSSMaxNums)document.documentElement.style.display=\"\";}, false)</script>\\n\\n        \\n\\n    \\n\\n    \\n\\n    <!-- Config CSS -->\\n\\n<!-- Other Styles -->\\n<style>\\n  body, html {\\n    font-family: -apple-system, system-ui, BlinkMacSystemFont, \"Segoe UI\", \"Noto Sans\", \"Noto Sans CJK SC\", Roboto, \"Helvetica Neue\", Arial, \"PingFang SC\", \"Hiragino Sans GB\", \"Microsoft YaHei\", sans-serif#Roboto-Thin, \"Helvetica Neue\", Helvetica, \"PingFang SC\", \"Hiragino Sans GB\", \"Microsoft YaHei\", \"微软雅黑\", Arial, sans-serif;\\n    overflow-x: hidden !important;\\n  }\\n  \\n  code {\\n    font-family: Consolas, Monaco, \\'Andale Mono\\', \\'Ubuntu Mono\\', monospace;\\n  }\\n\\n  a {\\n    color: #00838F;\\n  }\\n\\n  .mdl-card__media,\\n  #search-label,\\n  #search-form-label:after,\\n  #scheme-Paradox .hot_tags-count,\\n  #scheme-Paradox .sidebar_archives-count,\\n  #scheme-Paradox .sidebar-colored .sidebar-header,\\n  #scheme-Paradox .sidebar-colored .sidebar-badge{\\n    background-color: #0097A7 !important;\\n  }\\n\\n  /* Sidebar User Drop Down Menu Text Color */\\n  #scheme-Paradox .sidebar-colored .sidebar-nav>.dropdown>.dropdown-menu>li>a:hover,\\n  #scheme-Paradox .sidebar-colored .sidebar-nav>.dropdown>.dropdown-menu>li>a:focus {\\n    color: #0097A7 !important;\\n  }\\n\\n  #post_entry-right-info,\\n  .sidebar-colored .sidebar-nav li:hover > a,\\n  .sidebar-colored .sidebar-nav li:hover > a i,\\n  .sidebar-colored .sidebar-nav li > a:hover,\\n  .sidebar-colored .sidebar-nav li > a:hover i,\\n  .sidebar-colored .sidebar-nav li > a:focus i,\\n  .sidebar-colored .sidebar-nav > .open > a,\\n  .sidebar-colored .sidebar-nav > .open > a:hover,\\n  .sidebar-colored .sidebar-nav > .open > a:focus,\\n  #ds-reset #ds-ctx .ds-ctx-entry .ds-ctx-head a {\\n    color: #0097A7 !important;\\n  }\\n\\n  .toTop {\\n    background: #757575 !important;\\n  }\\n\\n  .material-layout .material-post>.material-nav,\\n  .material-layout .material-index>.material-nav,\\n  .material-nav a {\\n    color: #757575;\\n  }\\n\\n  #scheme-Paradox .MD-burger-layer {\\n    background-color: #757575;\\n  }\\n\\n  #scheme-Paradox #post-toc-trigger-btn {\\n    color: #757575;\\n  }\\n\\n  .post-toc a:hover {\\n    color: #00838F;\\n    text-decoration: underline;\\n  }\\n\\n</style>\\n\\n\\n<!-- Theme Background Related-->\\n\\n    <style>\\n      body{\\n        background-color: #FEDFE1;\\n      }\\n\\n      /* blog_info bottom background */\\n      #scheme-Paradox .material-layout .something-else .mdl-card__supporting-text{\\n        background-color: #fff;\\n      }\\n    </style>\\n\\n\\n\\n\\n<!-- Fade Effect -->\\n\\n    <style>\\n      .fade {\\n        transition: all 800ms linear;\\n        -webkit-transform: translate3d(0,0,0);\\n        -moz-transform: translate3d(0,0,0);\\n        -ms-transform: translate3d(0,0,0);\\n        -o-transform: translate3d(0,0,0);\\n        transform: translate3d(0,0,0);\\n        opacity: 1;\\n      }\\n\\n      .fade.out{\\n        opacity: 0;\\n      }\\n    </style>\\n\\n\\n<!-- Import Font -->\\n<!-- Import Roboto -->\\n\\n    <link href=\"https://fonts.proxy.ustclug.org/css?family=Roboto:300,400,500\" rel=\"stylesheet\">\\n\\n\\n<!-- Import Material Icon -->\\n\\n    <link rel=\"stylesheet\" href=\"https://cdn.bootcss.com/material-design-icons/3.0.1/iconfont/material-icons.min.css\">\\n\\n\\n\\n\\n    <!-- Import jQuery -->\\n    \\n        <script>lsloader.load(\"jq_js\",\"https://cdnjs.cat.net/ajax/libs/jquery/2.2.0/jquery.min.js\", true)</script>\\n    \\n\\n    <!-- The Open Graph protocol -->\\n    <meta property=\"og:url\" content=\"https://hibetterheyj.github.io\">\\n    <meta property=\"og:type\" content=\"blog\">\\n    <meta property=\"og:title\" content=\"PhilHE\">\\n    <meta property=\"og:image\" content=\"https://hibetterheyj.github.io/img/favicon(1).png\" />\\n    <meta property=\"og:description\" content=\"这是一个利用Hexo搭建的博客\">\\n    \\n\\n    \\n\\n    <!-- The Twitter Card protocol -->\\n    <meta name=\"twitter:title\" content=\"PhilHE\">\\n    <meta name=\"twitter:description\" content=\"这是一个利用Hexo搭建的博客\">\\n    <meta name=\"twitter:image\" content=\"https://hibetterheyj.github.io/img/favicon(1).png\">\\n    <meta name=\"twitter:card\" content=\"summary_large_image\" />\\n    <meta name=\"twitter:url\" content=\"https://hibetterheyj.github.io\" />\\n\\n    <!-- Add canonical link for SEO -->\\n    \\n        <link rel=\"canonical\" href=\"https://hibetterheyj.github.io\" />\\n    \\n\\n    <!-- Structured-data for SEO -->\\n    \\n        \\n<script type=\"application/ld+json\">\\n{\\n    \"@context\": \"http://schema.org\",\\n    \"@type\": \"Website\",\\n    \"publisher\": {\\n        \"@type\": \"Organization\",\\n        \"name\": \"PhilHE\",\\n        \"logo\": \"/img/favicon(1).png\"\\n    },\\n    \"url\": \"https://hibetterheyj.github.io\",\\n    \"image\": {\\n        \"@type\": \"ImageObject\",\\n        \"url\": \"/img/favicon(1).png\"\\n    },\\n    \"mainEntityOfPage\": {\\n        \"@type\": \"WebPage\",\\n        \"@id\": \"https://hibetterheyj.github.io\"\\n    },\\n    \"description\": \"这是一个利用Hexo搭建的博客\"\\n}\\n</script>\\n\\n\\n\\n\\n    \\n\\n    <!-- Analytics -->\\n    \\n    \\n    \\n\\n    <!-- Custom Head -->\\n    \\n\\n<link rel=\"stylesheet\" href=\"/css/prism-duotone-dark.css\" type=\"text/css\">\\n<link rel=\"stylesheet\" href=\"/css/prism-line-numbers.css\" type=\"text/css\"></head>\\n\\n\\n    \\n        <body id=\"scheme-Paradox\" class=\"lazy\">\\n            <div class=\"material-layout  mdl-js-layout has-drawer is-upgraded\">\\n                \\n\\n                <!-- Main Container -->\\n                <main class=\"material-layout__content\" id=\"main\">\\n\\n                    <!-- Top Anchor -->\\n                    <div id=\"top\"></div>\\n\\n                    \\n                        <!-- Hamburger Button -->\\n                        <button class=\"MD-burger-icon sidebar-toggle\">\\n                            <span class=\"MD-burger-layer\"></span>\\n                        </button>\\n                    \\n\\n                    <!-- Index Module -->\\n<div class=\"material-index mdl-grid\">\\n    \\n        <!-- Paradox Header -->\\n        <!-- Daily pic -->\\n<div class=\"mdl-card mdl-shadow--2dp daily-pic mdl-cell mdl-cell--8-col index-top-block\">\\n\\n    <!-- Pic & Slogan -->\\n    <div class=\"mdl-card__media mdl-color-text--grey-50\" style=\"background-image:url(/img/daily_pic.png)\">\\n        <p class=\"index-top-block-slogan\"><a href=\"#\">\\n        \\n            \\n                望学有专长，意有专情<br>终安和黾勉，趣味无倦\\n            \\n        \\n        </a></p>\\n    </div>\\n\\n    <!-- Avatar & Name -->\\n    <div class=\"mdl-card__supporting-text meta mdl-color-text--grey-600\">\\n        <!-- Author Avatar -->\\n        <div id=\"author-avatar\">\\n            <img src=\"/img/avatar(1).jpg\" width=\"32px\" height=\"32px\" alt=\"avatar\">\\n        </div>\\n        <div>\\n            <strong>PhilHE</strong>\\n        </div>\\n    </div>\\n</div>\\n\\n        <!-- Blog info -->\\n<div class=\"mdl-card mdl-shadow--2dp something-else mdl-cell mdl-cell--8-col mdl-cell--4-col-desktop index-top-block\">\\n\\n    <!-- Search -->\\n    \\n\\n\\n\\n\\n    <!-- Local -->\\n    <div class=\"mdl-textfield mdl-js-textfield mdl-textfield--expandable\" method=\"post\" action=\"\">\\n        <label id=\"search-label\" class=\"mdl-button mdl-js-ripple-effect mdl-js-button mdl-button--fab mdl-color--accent mdl-shadow--4dp\" for=\"search\">\\n            <i class=\"material-icons mdl-color-text--white\" role=\"presentation\">search</i>\\n        </label>\\n\\n        <form autocomplete=\"off\" id=\"search-form\" class=\"mdl-textfield__expandable-holder\">\\n            <input type=\"text\" id=\"search\" class=\"form-control mdl-textfield__input search-input\" name=\"q\" results=\"0\" placeholder=\"\"/>\\n            <label id=\"search-form-label\" class=\"mdl-textfield__label\" for=\"search\"></label>\\n        </form>\\n    </div>\\n    <div id=\"local-search-result\"></div>\\n\\n\\n\\n    <!-- LOGO -->\\n    <div class=\"something-else-logo mdl-color--white mdl-color-text--grey-600\">\\n        <a href=\"#\" target=\"_blank\">\\n            <img src=\"/img/2.jpg\" alt=\"logo\" />\\n        </a>\\n    </div>\\n\\n    <!-- Infomation -->\\n    <div class=\"mdl-card__supporting-text meta meta--fill mdl-color-text--grey-600\">\\n        <!-- Blog Title -->\\n        <div>\\n            <strong>PhilHE</strong>\\n        </div>\\n        <div class=\"section-spacer\"></div>\\n\\n        <!-- Pages -->\\n        <button id=\"show-pages-button\" class=\"mdl-button mdl-js-button mdl-js-ripple-effect mdl-button--icon\">\\n            <i class=\"material-icons\" role=\"presentation\">view_carousel</i>\\n            <span class=\"visuallyhidden\">Pages</span>\\n        </button>\\n        <ul class=\"mdl-menu mdl-js-menu mdl-menu--bottom-right\" for=\"show-pages-button\">\\n            \\n                <a class=\"index_share-link\" href=\"/tags.html\" title=\"标签\">\\n                    <li class=\"mdl-menu__item mdl-js-ripple-effect\">\\n                        标签\\n                    </li>\\n                </a>\\n            \\n                <a class=\"index_share-link\" href=\"/timeline.html\" title=\"时光\">\\n                    <li class=\"mdl-menu__item mdl-js-ripple-effect\">\\n                        时光\\n                    </li>\\n                </a>\\n            \\n                <a class=\"index_share-link\" href=\"/gallery.html\" title=\"映像\">\\n                    <li class=\"mdl-menu__item mdl-js-ripple-effect\">\\n                        映像\\n                    </li>\\n                </a>\\n            \\n                <a class=\"index_share-link\" href=\"/about.html\" title=\"关于\">\\n                    <li class=\"mdl-menu__item mdl-js-ripple-effect\">\\n                        关于\\n                    </li>\\n                </a>\\n            \\n                <a class=\"index_share-link\" href=\"/links.html\" title=\"友链\">\\n                    <li class=\"mdl-menu__item mdl-js-ripple-effect\">\\n                        友链\\n                    </li>\\n                </a>\\n            \\n        </ul>\\n\\n        <!-- Menu -->\\n        <button id=\"menubtn\" class=\"mdl-button mdl-js-button mdl-js-ripple-effect mdl-button--icon\">\\n            <i class=\"material-icons\" role=\"presentation\">more_vert</i>\\n            <span class=\"visuallyhidden\">show menu</span>\\n        </button>\\n        <ul class=\"mdl-menu mdl-js-menu mdl-menu--bottom-right\" for=\"menubtn\">\\n            \\n                <!-- All Site UV -->\\n                <a class=\"index_share-link\" href=\"#\">\\n                    <li class=\"mdl-menu__item mdl-js-ripple-effect\">\\n                        <span id=\"busuanzi_container_site_uv\">\\n                            <span id=\"busuanzi_value_site_uv\"></span>&nbsp;浏览量\\n                        </span>\\n                    </li>\\n                </a>\\n            \\n\\n            \\n\\n            \\n                <a class=\"index_share-link\" href=\"http://service.weibo.com/share/share.php?appkey=&title=PhilHE&url=https://hibetterheyj.github.io&pic=https://hibetterheyj.github.io/img/favicon(1).png&searchPic=false&style=simple\" target=\"_blank\">\\n                    <li class=\"mdl-menu__item mdl-js-ripple-effect\">\\n                        分享到微博\\n                    </li>\\n                </a>\\n            \\n\\n            \\n\\n            \\n                <a class=\"index_share-link\" href=\"https://www.facebook.com/sharer/sharer.php?u=https://hibetterheyj.github.io\" target=\"_blank\">\\n                    <li class=\"mdl-menu__item mdl-js-ripple-effect\">\\n                        分享到 Facebook\\n                    </li>\\n                </a>\\n            \\n\\n            \\n\\n            \\n\\n            \\n\\n            \\n                <a class=\"post_share-link\" href=\"https://telegram.me/share/url?url=https://hibetterheyj.github.io&text=PhilHE\" target=\"_blank\">\\n                    <li class=\"mdl-menu__item\">\\n                        分享到 Telegram\\n                    </li>\\n                </a>\\n            \\n        </ul>\\n    </div>\\n</div>\\n\\n    \\n    <div class=\"locate-thumbnail-symbol\"></div>\\n\\n    <!-- Pin on top -->\\n    \\n        \\n            \\n                \\n                    <!-- Paradox Thumbnail -->\\n                    <div class=\"post_entry-module mdl-card mdl-shadow--2dp mdl-cell mdl-cell--12-col fade out\">\\n    <!-- Post Thumbnail -->\\n    \\n        \\n            <!-- Random Thumbnail -->\\n            <div class=\"post_thumbnail-random mdl-card__media mdl-color-text--grey-50\">\\n        \\n    \\n\\n        <!-- Post Title -->\\n        <p class=\"article-headline-p\"><a href=\"/2017/10/22/fifth-week-summary-in-first-half-junior/\"><span>[Top]</span>大三上·第五周</a></p>\\n    </div>\\n\\n    <!-- Post Excerpt -->\\n    <div class=\"mdl-color-text--grey-600 mdl-card__supporting-text post_entry-content\">\\n        \\n            大三上·第五周 \\n\\nSummarized by PhilHE on Oct 22, 2017\\n\\n\\n        \\n        &nbsp;&nbsp;&nbsp;\\n        <span>\\n            <a href=\"/2017/10/22/fifth-week-summary-in-first-half-junior/\" target=\"_self\">阅读全文</a>\\n        </span>\\n    </div>\\n    <!-- Post_entry Info-->\\n    <div id=\"post_entry-info\">\\n        <div id=\"post_entry-left-info\" class=\"mdl-card__supporting-text meta mdl-color-text--grey-600 \">\\n            <!-- Author Avatar -->\\n            <div id=\"author-avatar\">\\n                <img src=\"/img/avatar(1).jpg\" width=\"44px\" height=\"44px\" alt=\"PhilHE\\'s avatar\">\\n            </div>\\n            <div>\\n                <strong>PhilHE</strong>\\n                <span>10月 22, 2017</span>\\n            </div>\\n        </div>\\n        <div id=\"post_entry-right-info\">\\n          \\n\\n            \\n\\n            \\n\\n            <!-- Post Views -->\\n            <span class=\"post_entry-views\">\\n            </span>\\n        </div>\\n    </div>\\n</div>\\n\\n                \\n                \\n            \\n                \\n                    <!-- Paradox Thumbnail -->\\n                    <div class=\"post_entry-module mdl-card mdl-shadow--2dp mdl-cell mdl-cell--12-col fade out\">\\n    <!-- Post Thumbnail -->\\n    \\n        \\n            <!-- Random Thumbnail -->\\n            <div class=\"post_thumbnail-random mdl-card__media mdl-color-text--grey-50\">\\n        \\n    \\n\\n        <!-- Post Title -->\\n        <p class=\"article-headline-p\"><a href=\"/2017/10/14/a-layman-s-guide-to-self-constructed-blog/\"><span>[Top]</span>自建博客不专业入门指北</a></p>\\n    </div>\\n\\n    <!-- Post Excerpt -->\\n    <div class=\"mdl-color-text--grey-600 mdl-card__supporting-text post_entry-content\">\\n        \\n            \\n本文首发于公众号『去冰』2017年10月14日的推送，感谢支持关注！\\n\\n        \\n        &nbsp;&nbsp;&nbsp;\\n        <span>\\n            <a href=\"/2017/10/14/a-layman-s-guide-to-self-constructed-blog/\" target=\"_self\">阅读全文</a>\\n        </span>\\n    </div>\\n    <!-- Post_entry Info-->\\n    <div id=\"post_entry-info\">\\n        <div id=\"post_entry-left-info\" class=\"mdl-card__supporting-text meta mdl-color-text--grey-600 \">\\n            <!-- Author Avatar -->\\n            <div id=\"author-avatar\">\\n                <img src=\"/img/avatar(1).jpg\" width=\"44px\" height=\"44px\" alt=\"PhilHE\\'s avatar\">\\n            </div>\\n            <div>\\n                <strong>PhilHE</strong>\\n                <span>10月 14, 2017</span>\\n            </div>\\n        </div>\\n        <div id=\"post_entry-right-info\">\\n          \\n              <!-- Category -->\\n              <span class=\"post_entry-category\">\\n                  <a class=\"post_category-link\" href=\"/categories/技术·小见/\">技术·小见</a>\\n              </span>\\n            \\n\\n            \\n\\n            \\n\\n            <!-- Post Views -->\\n            <span class=\"post_entry-views\">\\n            </span>\\n        </div>\\n    </div>\\n</div>\\n\\n                \\n                \\n            \\n        \\n    \\n\\n    <!-- Normal Post -->\\n    \\n        \\n    \\n        \\n            \\n                <!-- Paradox Thumbnail -->\\n                <div class=\"post_entry-module mdl-card mdl-shadow--2dp mdl-cell mdl-cell--12-col fade out\">\\n    <!-- Post Thumbnail -->\\n    \\n        \\n            <!-- Random Thumbnail -->\\n            <div class=\"post_thumbnail-random mdl-card__media mdl-color-text--grey-50\">\\n        \\n    \\n\\n        <!-- Post Title -->\\n        <p class=\"article-headline-p\"><a href=\"/2017/10/20/HEre2Talk-newsletter-review-in-early-Oct-2017/\">记记文摘|十一月上旬新闻通讯回顾</a></p>\\n    </div>\\n\\n    <!-- Post Excerpt -->\\n    <div class=\"mdl-color-text--grey-600 mdl-card__supporting-text post_entry-content\">\\n        \\n            \\n\\n\\n  请食用第一期的〔记记文摘〕，水平不够，还请海涵~\\n\\n        \\n        &nbsp;&nbsp;&nbsp;\\n        <span>\\n            <a href=\"/2017/10/20/HEre2Talk-newsletter-review-in-early-Oct-2017/\" target=\"_self\">阅读全文</a>\\n        </span>\\n    </div>\\n    <!-- Post_entry Info-->\\n    <div id=\"post_entry-info\">\\n        <div id=\"post_entry-left-info\" class=\"mdl-card__supporting-text meta mdl-color-text--grey-600 \">\\n            <!-- Author Avatar -->\\n            <div id=\"author-avatar\">\\n                <img src=\"/img/avatar(1).jpg\" width=\"44px\" height=\"44px\" alt=\"PhilHE\\'s avatar\">\\n            </div>\\n            <div>\\n                <strong>PhilHE</strong>\\n                <span>10月 20, 2017</span>\\n            </div>\\n        </div>\\n        <div id=\"post_entry-right-info\">\\n          \\n              <!-- Category -->\\n              <span class=\"post_entry-category\">\\n                  <a class=\"post_category-link\" href=\"/categories/何处·听说/\">何处·听说</a>\\n              </span>\\n            \\n\\n            \\n\\n            \\n\\n            <!-- Post Views -->\\n            <span class=\"post_entry-views\">\\n            </span>\\n        </div>\\n    </div>\\n</div>\\n\\n            \\n            \\n        \\n    \\n        \\n            \\n                <!-- Paradox Thumbnail -->\\n                <div class=\"post_entry-module mdl-card mdl-shadow--2dp mdl-cell mdl-cell--12-col fade out\">\\n    <!-- Post Thumbnail -->\\n    \\n        \\n            <!-- Random Thumbnail -->\\n            <div class=\"post_thumbnail-random mdl-card__media mdl-color-text--grey-50\">\\n        \\n    \\n\\n        <!-- Post Title -->\\n        <p class=\"article-headline-p\"><a href=\"/2017/10/15/fourth-week-summary-in-first-half-junior/\">大三上·第四周</a></p>\\n    </div>\\n\\n    <!-- Post Excerpt -->\\n    <div class=\"mdl-color-text--grey-600 mdl-card__supporting-text post_entry-content\">\\n        \\n            大三上·第四周 \\n\\nSummarized by PhilHE on Oct 15, 2017\\n\\n\\n        \\n        &nbsp;&nbsp;&nbsp;\\n        <span>\\n            <a href=\"/2017/10/15/fourth-week-summary-in-first-half-junior/\" target=\"_self\">阅读全文</a>\\n        </span>\\n    </div>\\n    <!-- Post_entry Info-->\\n    <div id=\"post_entry-info\">\\n        <div id=\"post_entry-left-info\" class=\"mdl-card__supporting-text meta mdl-color-text--grey-600 \">\\n            <!-- Author Avatar -->\\n            <div id=\"author-avatar\">\\n                <img src=\"/img/avatar(1).jpg\" width=\"44px\" height=\"44px\" alt=\"PhilHE\\'s avatar\">\\n            </div>\\n            <div>\\n                <strong>PhilHE</strong>\\n                <span>10月 15, 2017</span>\\n            </div>\\n        </div>\\n        <div id=\"post_entry-right-info\">\\n          \\n              <!-- Category -->\\n              <span class=\"post_entry-category\">\\n                  <a class=\"post_category-link\" href=\"/categories/每周·点滴/\">每周·点滴</a>\\n              </span>\\n            \\n\\n            \\n\\n            \\n\\n            <!-- Post Views -->\\n            <span class=\"post_entry-views\">\\n            </span>\\n        </div>\\n    </div>\\n</div>\\n\\n            \\n            \\n        \\n    \\n        \\n    \\n        \\n            \\n                <!-- Paradox Thumbnail -->\\n                <div class=\"post_entry-module mdl-card mdl-shadow--2dp mdl-cell mdl-cell--12-col fade out\">\\n    <!-- Post Thumbnail -->\\n    \\n        <!-- Custom Thumbnail -->\\n        <div class=\"post_thumbnail-custom mdl-card__media mdl-color-text--grey-50 lazy\" data-original=\"https://ooo.0o0.ooo/2017/10/12/59de69767feed.jpg\">\\n    \\n\\n        <!-- Post Title -->\\n        <p class=\"article-headline-p\"><a href=\"/2017/10/12/a-new-column-HEre2Talk-blog-and-me/\">新栏目『何处·听说』： 说说自己，说说博客！</a></p>\\n    </div>\\n\\n    <!-- Post Excerpt -->\\n    <div class=\"mdl-color-text--grey-600 mdl-card__supporting-text post_entry-content\">\\n        \\n            新栏目『何处·听说』： 说说自己，说说博客！ \\n\\n\\n\\n  大学两年多以来，疏于记录自己成长的所见、所闻、所感。如今想做出一点改变了！\\n\\n   空白    \\n        \\n        &nbsp;&nbsp;&nbsp;\\n        <span>\\n            <a href=\"/2017/10/12/a-new-column-HEre2Talk-blog-and-me/\" target=\"_self\">阅读全文</a>\\n        </span>\\n    </div>\\n    <!-- Post_entry Info-->\\n    <div id=\"post_entry-info\">\\n        <div id=\"post_entry-left-info\" class=\"mdl-card__supporting-text meta mdl-color-text--grey-600 \">\\n            <!-- Author Avatar -->\\n            <div id=\"author-avatar\">\\n                <img src=\"/img/avatar(1).jpg\" width=\"44px\" height=\"44px\" alt=\"PhilHE\\'s avatar\">\\n            </div>\\n            <div>\\n                <strong>PhilHE</strong>\\n                <span>10月 12, 2017</span>\\n            </div>\\n        </div>\\n        <div id=\"post_entry-right-info\">\\n          \\n              <!-- Category -->\\n              <span class=\"post_entry-category\">\\n                  <a class=\"post_category-link\" href=\"/categories/何处·听说/\">何处·听说</a>\\n              </span>\\n            \\n\\n            \\n\\n            \\n\\n            <!-- Post Views -->\\n            <span class=\"post_entry-views\">\\n            </span>\\n        </div>\\n    </div>\\n</div>\\n\\n            \\n            \\n        \\n    \\n        \\n            \\n                <!-- Paradox Thumbnail -->\\n                <div class=\"post_entry-module mdl-card mdl-shadow--2dp mdl-cell mdl-cell--12-col fade out\">\\n    <!-- Post Thumbnail -->\\n    \\n        \\n            <!-- Random Thumbnail -->\\n            <div class=\"post_thumbnail-random mdl-card__media mdl-color-text--grey-50\">\\n        \\n    \\n\\n        <!-- Post Title -->\\n        <p class=\"article-headline-p\"><a href=\"/2017/10/07/basic-notes-of-Laplace-transform-under-LaTeX/\">LaTeX之下的控制工程拉式变换</a></p>\\n    </div>\\n\\n    <!-- Post Excerpt -->\\n    <div class=\"mdl-color-text--grey-600 mdl-card__supporting-text post_entry-content\">\\n        \\n            \\n第一次尝试用LaTeX与Markdown的结合来做控工笔记！10.12更新了增加了复微分定理与相关函数的象函数\\n\\n        \\n        &nbsp;&nbsp;&nbsp;\\n        <span>\\n            <a href=\"/2017/10/07/basic-notes-of-Laplace-transform-under-LaTeX/\" target=\"_self\">阅读全文</a>\\n        </span>\\n    </div>\\n    <!-- Post_entry Info-->\\n    <div id=\"post_entry-info\">\\n        <div id=\"post_entry-left-info\" class=\"mdl-card__supporting-text meta mdl-color-text--grey-600 \">\\n            <!-- Author Avatar -->\\n            <div id=\"author-avatar\">\\n                <img src=\"/img/avatar(1).jpg\" width=\"44px\" height=\"44px\" alt=\"PhilHE\\'s avatar\">\\n            </div>\\n            <div>\\n                <strong>PhilHE</strong>\\n                <span>10月 07, 2017</span>\\n            </div>\\n        </div>\\n        <div id=\"post_entry-right-info\">\\n          \\n              <!-- Category -->\\n              <span class=\"post_entry-category\">\\n                  <a class=\"post_category-link\" href=\"/categories/学业·积累/\">学业·积累</a>\\n              </span>\\n            \\n\\n            \\n\\n            \\n\\n            <!-- Post Views -->\\n            <span class=\"post_entry-views\">\\n            </span>\\n        </div>\\n    </div>\\n</div>\\n\\n            \\n            \\n        \\n    \\n        \\n            \\n                <!-- Paradox Thumbnail -->\\n                <div class=\"post_entry-module mdl-card mdl-shadow--2dp mdl-cell mdl-cell--12-col fade out\">\\n    <!-- Post Thumbnail -->\\n    \\n        \\n            <!-- Random Thumbnail -->\\n            <div class=\"post_thumbnail-random mdl-card__media mdl-color-text--grey-50\">\\n        \\n    \\n\\n        <!-- Post Title -->\\n        <p class=\"article-headline-p\"><a href=\"/2017/10/01/second-week-summary-in-first-half-junior/\">大三上·第二周（大家国庆快乐呀~）</a></p>\\n    </div>\\n\\n    <!-- Post Excerpt -->\\n    <div class=\"mdl-color-text--grey-600 mdl-card__supporting-text post_entry-content\">\\n        \\n            大三上·第二周（国庆快乐） \\n\\nSummarized by PhilHE on Oct 1, 2017\\n\\n\\n\\n  \\u200b    首先祝大家国庆快乐哈！\\n\\n        \\n        &nbsp;&nbsp;&nbsp;\\n        <span>\\n            <a href=\"/2017/10/01/second-week-summary-in-first-half-junior/\" target=\"_self\">阅读全文</a>\\n        </span>\\n    </div>\\n    <!-- Post_entry Info-->\\n    <div id=\"post_entry-info\">\\n        <div id=\"post_entry-left-info\" class=\"mdl-card__supporting-text meta mdl-color-text--grey-600 \">\\n            <!-- Author Avatar -->\\n            <div id=\"author-avatar\">\\n                <img src=\"/img/avatar(1).jpg\" width=\"44px\" height=\"44px\" alt=\"PhilHE\\'s avatar\">\\n            </div>\\n            <div>\\n                <strong>PhilHE</strong>\\n                <span>10月 01, 2017</span>\\n            </div>\\n        </div>\\n        <div id=\"post_entry-right-info\">\\n          \\n              <!-- Category -->\\n              <span class=\"post_entry-category\">\\n                  <a class=\"post_category-link\" href=\"/categories/每周·点滴/\">每周·点滴</a>\\n              </span>\\n            \\n\\n            \\n\\n            \\n\\n            <!-- Post Views -->\\n            <span class=\"post_entry-views\">\\n            </span>\\n        </div>\\n    </div>\\n</div>\\n\\n            \\n            \\n        \\n    \\n        \\n            \\n                <!-- Paradox Thumbnail -->\\n                <div class=\"post_entry-module mdl-card mdl-shadow--2dp mdl-cell mdl-cell--12-col fade out\">\\n    <!-- Post Thumbnail -->\\n    \\n        <!-- Custom Thumbnail -->\\n        <div class=\"post_thumbnail-custom mdl-card__media mdl-color-text--grey-50 lazy\" data-original=\"https://ooo.0o0.ooo/2017/10/12/59de65f8adfac.png\">\\n    \\n\\n        <!-- Post Title -->\\n        <p class=\"article-headline-p\"><a href=\"/2017/10/01/automotive-control-engineering-related-resources/\">控制工程相关资源整理</a></p>\\n    </div>\\n\\n    <!-- Post Excerpt -->\\n    <div class=\"mdl-color-text--grey-600 mdl-card__supporting-text post_entry-content\">\\n        \\n            控制工程相关整理\\n        \\n        &nbsp;&nbsp;&nbsp;\\n        <span>\\n            <a href=\"/2017/10/01/automotive-control-engineering-related-resources/\" target=\"_self\">阅读全文</a>\\n        </span>\\n    </div>\\n    <!-- Post_entry Info-->\\n    <div id=\"post_entry-info\">\\n        <div id=\"post_entry-left-info\" class=\"mdl-card__supporting-text meta mdl-color-text--grey-600 \">\\n            <!-- Author Avatar -->\\n            <div id=\"author-avatar\">\\n                <img src=\"/img/avatar(1).jpg\" width=\"44px\" height=\"44px\" alt=\"PhilHE\\'s avatar\">\\n            </div>\\n            <div>\\n                <strong>PhilHE</strong>\\n                <span>10月 01, 2017</span>\\n            </div>\\n        </div>\\n        <div id=\"post_entry-right-info\">\\n          \\n              <!-- Category -->\\n              <span class=\"post_entry-category\">\\n                  <a class=\"post_category-link\" href=\"/categories/学业·积累/\">学业·积累</a>\\n              </span>\\n            \\n\\n            \\n\\n            \\n\\n            <!-- Post Views -->\\n            <span class=\"post_entry-views\">\\n            </span>\\n        </div>\\n    </div>\\n</div>\\n\\n            \\n            \\n        \\n    \\n        \\n            \\n                <!-- Paradox Thumbnail -->\\n                <div class=\"post_entry-module mdl-card mdl-shadow--2dp mdl-cell mdl-cell--12-col fade out\">\\n    <!-- Post Thumbnail -->\\n    \\n        \\n            <!-- Random Thumbnail -->\\n            <div class=\"post_thumbnail-random mdl-card__media mdl-color-text--grey-50\">\\n        \\n    \\n\\n        <!-- Post Title -->\\n        <p class=\"article-headline-p\"><a href=\"/2017/09/24/crash-course-to-LaTeX-maths-equation/\">快速入门TeX数学公式</a></p>\\n    </div>\\n\\n    <!-- Post Excerpt -->\\n    <div class=\"mdl-color-text--grey-600 mdl-card__supporting-text post_entry-content\">\\n        \\n            \\n\\n\\n快速入门TeX数学公式\\n        \\n        &nbsp;&nbsp;&nbsp;\\n        <span>\\n            <a href=\"/2017/09/24/crash-course-to-LaTeX-maths-equation/\" target=\"_self\">阅读全文</a>\\n        </span>\\n    </div>\\n    <!-- Post_entry Info-->\\n    <div id=\"post_entry-info\">\\n        <div id=\"post_entry-left-info\" class=\"mdl-card__supporting-text meta mdl-color-text--grey-600 \">\\n            <!-- Author Avatar -->\\n            <div id=\"author-avatar\">\\n                <img src=\"/img/avatar(1).jpg\" width=\"44px\" height=\"44px\" alt=\"PhilHE\\'s avatar\">\\n            </div>\\n            <div>\\n                <strong>PhilHE</strong>\\n                <span>9月 24, 2017</span>\\n            </div>\\n        </div>\\n        <div id=\"post_entry-right-info\">\\n          \\n              <!-- Category -->\\n              <span class=\"post_entry-category\">\\n                  <a class=\"post_category-link\" href=\"/categories/每日·精进/\">每日·精进</a>\\n              </span>\\n            \\n\\n            \\n\\n            \\n\\n            <!-- Post Views -->\\n            <span class=\"post_entry-views\">\\n            </span>\\n        </div>\\n    </div>\\n</div>\\n\\n            \\n            \\n        \\n    \\n        \\n            \\n                <!-- Paradox Thumbnail -->\\n                <div class=\"post_entry-module mdl-card mdl-shadow--2dp mdl-cell mdl-cell--12-col fade out\">\\n    <!-- Post Thumbnail -->\\n    \\n        \\n            <!-- Random Thumbnail -->\\n            <div class=\"post_thumbnail-random mdl-card__media mdl-color-text--grey-50\">\\n        \\n    \\n\\n        <!-- Post Title -->\\n        <p class=\"article-headline-p\"><a href=\"/2017/09/23/first-week-summary-in-first-half-junior/\">大三上·第一周</a></p>\\n    </div>\\n\\n    <!-- Post Excerpt -->\\n    <div class=\"mdl-color-text--grey-600 mdl-card__supporting-text post_entry-content\">\\n        \\n            大三上·第一周\\n\\nSummarized by PhilHE on Sep 23, 2017\\n        \\n        &nbsp;&nbsp;&nbsp;\\n        <span>\\n            <a href=\"/2017/09/23/first-week-summary-in-first-half-junior/\" target=\"_self\">阅读全文</a>\\n        </span>\\n    </div>\\n    <!-- Post_entry Info-->\\n    <div id=\"post_entry-info\">\\n        <div id=\"post_entry-left-info\" class=\"mdl-card__supporting-text meta mdl-color-text--grey-600 \">\\n            <!-- Author Avatar -->\\n            <div id=\"author-avatar\">\\n                <img src=\"/img/avatar(1).jpg\" width=\"44px\" height=\"44px\" alt=\"PhilHE\\'s avatar\">\\n            </div>\\n            <div>\\n                <strong>PhilHE</strong>\\n                <span>9月 23, 2017</span>\\n            </div>\\n        </div>\\n        <div id=\"post_entry-right-info\">\\n          \\n              <!-- Category -->\\n              <span class=\"post_entry-category\">\\n                  <a class=\"post_category-link\" href=\"/categories/每周·点滴/\">每周·点滴</a>\\n              </span>\\n            \\n\\n            \\n\\n            \\n\\n            <!-- Post Views -->\\n            <span class=\"post_entry-views\">\\n            </span>\\n        </div>\\n    </div>\\n</div>\\n\\n            \\n            \\n        \\n    \\n\\n    \\n    <!-- Index nav -->\\n        <nav class=\"material-nav mdl-cell mdl-cell--12-col\">\\n            <span class=\"page-number current\">1</span><a class=\"page-number\" href=\"/page/2/\">2</a><a class=\"extend next\" rel=\"next\" href=\"/page/2/\"><button class=\"mdl-button mdl-js-button mdl-js-ripple-effect mdl-button--icon\"><i class=\"material-icons\" role=\"presentation\">arrow_forward</i></button></a>\\n        </nav>\\n    \\n\\n    \\n        <script type=\"text/ls-javascript\" id=\"thumbnail-script\">\\n    var randomNum;\\n\\n    var locatePost = $(\\'.locate-thumbnail-symbol\\').next();\\n    for(var i = 0; i < 10; i++) {\\n        randomNum = Math.floor(Math.random() * 19 + 1);\\n\\n        locatePost.children(\\'.post_thumbnail-random\\').attr(\\'id\\', \\'random_thumbnail-\\'+randomNum);\\n        locatePost.children(\\'.post_thumbnail-random\\').attr(\\'data-original\\', \\'/img/random/material-\\' + randomNum + \\'.png\\');\\n    $(\\'.post_thumbnail-random\\').addClass(\\'lazy\\');\\n\\n        locatePost = locatePost.next();\\n    }\\n</script>\\n\\n    \\n</div>\\n\\n\\n                    \\n                        <!-- Overlay For Active Sidebar -->\\n<div class=\"sidebar-overlay\"></div>\\n\\n<!-- Material sidebar -->\\n<aside id=\"sidebar\" class=\"sidebar sidebar-colored sidebar-fixed-left\" role=\"navigation\">\\n    <div id=\"sidebar-main\">\\n        <!-- Sidebar Header -->\\n        <div class=\"sidebar-header header-cover\" style=\"background-image: url(/img/sidebar_header.png);\">\\n    <!-- Top bar -->\\n    <div class=\"top-bar\"></div>\\n\\n    <!-- Sidebar toggle button -->\\n    <button type=\"button\" class=\"sidebar-toggle mdl-button mdl-js-button mdl-js-ripple-effect mdl-button--icon\" style=\"display: initial;\" data-upgraded=\",MaterialButton,MaterialRipple\">\\n        <i class=\"material-icons\">clear_all</i>\\n        <span class=\"mdl-button__ripple-container\">\\n            <span class=\"mdl-ripple\">\\n            </span>\\n        </span>\\n    </button>\\n\\n    <!-- Sidebar Avatar -->\\n    <div class=\"sidebar-image\">\\n        <img src=\"/img/avatar(1).jpg\" alt=\"PhilHE\\'s avatar\">\\n    </div>\\n\\n    <!-- Sidebar Email -->\\n    <a data-toggle=\"dropdown\" class=\"sidebar-brand\" href=\"#settings-dropdown\">\\n        yujie.he0925@outlook.com\\n        <b class=\"caret\"></b>\\n    </a>\\n</div>\\n\\n\\n        <!-- Sidebar Navigation  -->\\n        <ul class=\"nav sidebar-nav\">\\n    <!-- User dropdown  -->\\n    <li class=\"dropdown\">\\n        <ul id=\"settings-dropdown\" class=\"dropdown-menu\">\\n            \\n                <li>\\n                    <a href=\"mailto: yujie.he0925@outlook.com\" target=\"_blank\" title=\"Email Me (public)\">\\n                        \\n                            <i class=\"material-icons sidebar-material-icons sidebar-indent-left1pc-element\">email</i>\\n                        \\n                        Email Me (public)\\n                    </a>\\n                </li>\\n            \\n                <li>\\n                    <a href=\"mailto: hyj1997wshhz@163.com\" target=\"_blank\" title=\"Letter to (private)\">\\n                        \\n                            <i class=\"material-icons sidebar-material-icons sidebar-indent-left1pc-element\">email</i>\\n                        \\n                        Letter to (private)\\n                    </a>\\n                </li>\\n            \\n        </ul>\\n    </li>\\n\\n    <!-- Homepage -->\\n    \\n        <li id=\"sidebar-first-li\">\\n            <a href=\"/\">\\n                \\n                    <i class=\"material-icons sidebar-material-icons\">home</i>\\n                \\n                主页\\n            </a>\\n        </li>\\n        \\n    \\n\\n    <!-- Archives  -->\\n    \\n        <li class=\"dropdown\">\\n            <a href=\"#\" class=\"ripple-effect dropdown-toggle\" data-toggle=\"dropdown\">\\n                \\n                    <i class=\"material-icons sidebar-material-icons\">inbox</i>\\n                \\n                    归档\\n                <b class=\"caret\"></b>\\n            </a>\\n            <ul class=\"dropdown-menu\">\\n            <li>\\n                <a class=\"sidebar_archives-link\" href=\"/archives/2017/10/\">十月 2017<span class=\"sidebar_archives-count\">8</span></a></li><li><a class=\"sidebar_archives-link\" href=\"/archives/2017/09/\">九月 2017<span class=\"sidebar_archives-count\">3</span></a></li><li><a class=\"sidebar_archives-link\" href=\"/archives/2017/08/\">八月 2017<span class=\"sidebar_archives-count\">6</span></a>\\n            </ul>\\n        </li>\\n        \\n    \\n\\n    <!-- Categories  -->\\n    \\n        <li class=\"dropdown\">\\n            <a href=\"#\" class=\"ripple-effect dropdown-toggle\" data-toggle=\"dropdown\">\\n                \\n                    <i class=\"material-icons sidebar-material-icons\">apps</i>\\n                \\n                分类\\n                <b class=\"caret\"></b>\\n            </a>\\n            <ul class=\"dropdown-menu\">\\n                <li>\\n                <a class=\"sidebar_archives-link\" href=\"/categories/何处·听说/\">何处·听说<span class=\"sidebar_archives-count\">2</span></a></li><li><a class=\"sidebar_archives-link\" href=\"/categories/学业·积累/\">学业·积累<span class=\"sidebar_archives-count\">2</span></a></li><li><a class=\"sidebar_archives-link\" href=\"/categories/技术·小见/\">技术·小见<span class=\"sidebar_archives-count\">4</span></a></li><li><a class=\"sidebar_archives-link\" href=\"/categories/每周·点滴/\">每周·点滴<span class=\"sidebar_archives-count\">3</span></a></li><li><a class=\"sidebar_archives-link\" href=\"/categories/每日·精进/\">每日·精进<span class=\"sidebar_archives-count\">4</span></a>\\n            </ul>\\n        </li>\\n        \\n            <li class=\"divider\"></li>\\n        \\n    \\n\\n    <!-- Pages  -->\\n    \\n        <li>\\n            <a href=\"/tags.html\" title=\"标签\">\\n                \\n                    <i class=\"material-icons sidebar-material-icons\">bookmark</i>\\n                \\n                标签\\n            </a>\\n        </li>\\n        \\n    \\n        <li>\\n            <a href=\"/timeline.html\" title=\"时光\">\\n                \\n                    <i class=\"material-icons sidebar-material-icons\">schedule</i>\\n                \\n                时光\\n            </a>\\n        </li>\\n        \\n    \\n        <li>\\n            <a href=\"/gallery.html\" title=\"映像\">\\n                \\n                    <i class=\"material-icons sidebar-material-icons\">photo</i>\\n                \\n                映像\\n            </a>\\n        </li>\\n        \\n    \\n        <li>\\n            <a href=\"/about.html\" title=\"关于\">\\n                \\n                    <i class=\"material-icons sidebar-material-icons\">person</i>\\n                \\n                关于\\n            </a>\\n        </li>\\n        \\n    \\n        <li>\\n            <a href=\"/links.html\" title=\"友链\">\\n                \\n                    <i class=\"material-icons sidebar-material-icons\">people</i>\\n                \\n                友链\\n            </a>\\n        </li>\\n        \\n            <li class=\"divider\"></li>\\n        \\n    \\n\\n    <!-- Article Number  -->\\n    \\n        <li>\\n            <a href=\"/archives\">\\n                文章总数\\n                <span class=\"sidebar-badge\">17</span>\\n            </a>\\n        </li>\\n        \\n    \\n</ul>\\n\\n\\n        <!-- Sidebar Footer -->\\n        <!--\\nI\\'m glad you use this theme, the development is no so easy, I hope you can keep the copyright, I will thank you so much.\\nIf you still want to delete the copyrights, could you still retain the first one? Which namely \"Theme Material\"\\nIt will not impact the appearance and can give developers a lot of support :)\\n\\n很高兴您使用并喜欢该主题，开发不易 十分谢谢与希望您可以保留一下版权声明。\\n如果您仍然想删除的话 能否只保留第一项呢？即 \"Theme Material\"\\n它不会影响美观并可以给开发者很大的支持和动力。 :)\\n-->\\n\\n<!-- Sidebar Divider -->\\n\\n    <div class=\"sidebar-divider\"></div>\\n\\n\\n<!-- Theme Material -->\\n\\n\\n<!-- Help & Support -->\\n<!--\\n\\n-->\\n\\n<!-- Feedback -->\\n<!--\\n\\n-->\\n\\n<!-- About Theme -->\\n<!--\\n\\n    <a href=\"https://blog.viosey.com/index.php/Material.html\" target=\"_blank\" class=\"sidebar-footer-text-a\">\\n        <div class=\"sidebar-text mdl-button mdl-js-button mdl-js-ripple-effect sidebar-footer-text-div\" data-upgraded=\",MaterialButton,MaterialRipple\">\\n             sidebar.about_theme\\n            <span class=\"mdl-button__ripple-container\"><span class=\"mdl-ripple\"></span></span></div>\\n    </a>\\n\\n-->\\n\\n    </div>\\n\\n    <!-- Sidebar Image -->\\n    \\n\\n</aside>\\n\\n                    \\n\\n                    \\n                        <!-- Footer Top Button -->\\n                        <div id=\"back-to-top\" class=\"toTop-wrap\">\\n    <a href=\"#top\" class=\"toTop\">\\n        <i class=\"material-icons footer_top-i\">expand_less</i>\\n    </a>\\n</div>\\n\\n                    \\n\\n                    <!--Footer-->\\n<footer class=\"mdl-mini-footer\" id=\"bottom\">\\n    \\n        <!-- Paradox Footer Left Section -->\\n        <div class=\"mdl-mini-footer--left-section sns-list\">\\n    <!-- Twitter -->\\n    \\n\\n    <!-- Facebook -->\\n    \\n        <a href=\"https://www.facebook.com/yujie.he0925\" target=\"_blank\">\\n            <button class=\"mdl-mini-footer--social-btn social-btn footer-sns-facebook\">\\n                <span class=\"visuallyhidden\">Facebook</span>\\n            </button><!--\\n     --></a>\\n    \\n\\n    <!-- Google + -->\\n    \\n\\n    <!-- Weibo -->\\n    \\n        <a href=\"http://www.weibo.com/970925hyuj/\" target=\"_blank\">\\n            <button class=\"mdl-mini-footer--social-btn social-btn footer-sns-weibo\">\\n                <span class=\"visuallyhidden\">Weibo</span>\\n            </button><!--\\n     --></a>\\n    \\n\\n    <!-- Instagram -->\\n    \\n        <a href=\"https://www.instagram.com/hi_better_bertland/\" target=\"_blank\">\\n            <button class=\"mdl-mini-footer--social-btn social-btn footer-sns-instagram\">\\n                <span class=\"visuallyhidden\">Instagram</span>\\n            </button><!--\\n     --></a>\\n    \\n\\n    <!-- Tumblr -->\\n    \\n\\n    <!-- Github -->\\n    \\n        <a href=\"https://github.com/hibetterheyj\" target=\"_blank\">\\n            <button class=\"mdl-mini-footer--social-btn social-btn footer-sns-github\">\\n                <span class=\"visuallyhidden\">Github</span>\\n            </button><!--\\n     --></a>\\n    \\n\\n    <!-- LinkedIn -->\\n    \\n\\n    <!-- Zhihu -->\\n    \\n        <a href=\"https://www.zhihu.com/people/he-mou-ren-77\" target=\"_blank\">\\n            <button class=\"mdl-mini-footer--social-btn social-btn footer-sns-zhihu\">\\n                <span class=\"visuallyhidden\">Zhihu</span>\\n            </button><!--\\n     --></a>\\n    \\n\\n    <!-- Bilibili -->\\n    \\n\\n    <!-- Telegram -->\\n    \\n        <a href=\"https://telegram.me/PhilHE\" target=\"_blank\">\\n            <button class=\"mdl-mini-footer--social-btn social-btn footer-sns-telegram\">\\n                <span class=\"visuallyhidden\">Telegram</span>\\n            </button><!--\\n     --></a>\\n    \\n    \\n    <!-- V2EX -->\\n    \\n</div>\\n\\n\\n        <!--Copyright-->\\n        <div id=\"copyright\">\\n            Copyright&nbsp;©&nbsp;2017&nbsp;-<script type=\"text/javascript\">var fd = new Date();document.write(\"&nbsp;\" + fd.getFullYear() + \"&nbsp;\");</script>PhilHE\\n            \\n        </div>\\n\\n        <!-- Paradox Footer Right Section -->\\n\\n        <!--\\n        I am glad you use this theme, the development is no so easy, I hope you can keep the copyright.\\n        It will not impact the appearance and can give developers a lot of support :)\\n\\n        很高兴您使用该主题，开发不易，希望您可以保留一下版权声明。\\n        它不会影响美观并可以给开发者很大的支持。 :)\\n        -->\\n\\n        <div class=\"mdl-mini-footer--right-section\">\\n            <div>\\n                <div class=\"footer-develop-div\">Powered by <a href=\"https://hexo.io\" target=\"_blank\" class=\"footer-develop-a\">Hexo</a></div>\\n                <div class=\"footer-develop-div\">Theme - <a href=\"https://github.com/viosey/hexo-theme-material\" target=\"_blank\" class=\"footer-develop-a\">Material</a></div>\\n            </div>\\n        </div>\\n    \\n</footer>\\n\\n\\n                    <!-- Import JS File -->\\n\\n    <script>lsloader.load(\"lazyload_js\",\"/js/lazyload.min.js?1BcfzuNXqV+ntF6gq+5X3Q==\", true)</script>\\n\\n\\n\\n    <script>lsloader.load(\"js_js\",\"/js/js.min.js?V/53wGualMuiPM3xoetD5Q==\", true)</script>\\n\\n\\n\\n    <script>lsloader.load(\"np_js\",\"https://cdnjs.cat.net/ajax/libs/nprogress/0.2.0/nprogress.min.js\", true)</script>\\n\\n\\n<script type=\"text/ls-javascript\" id=\"NProgress-script\">\\n    NProgress.configure({\\n        showSpinner: true\\n    });\\n    NProgress.start();\\n    $(\\'#nprogress .bar\\').css({\\n        \\'background\\': \\'#29d\\'\\n    });\\n    $(\\'#nprogress .peg\\').css({\\n        \\'box-shadow\\': \\'0 0 10px #29d, 0 0 15px #29d\\'\\n    });\\n    $(\\'#nprogress .spinner-icon\\').css({\\n        \\'border-top-color\\': \\'#29d\\',\\n        \\'border-left-color\\': \\'#29d\\'\\n    });\\n    setTimeout(function() {\\n        NProgress.done();\\n        $(\\'.fade\\').removeClass(\\'out\\');\\n    }, 800);\\n</script>\\n\\n\\n\\n\\n\\n\\n\\n    <!-- Busuanzi -->\\n    <script src=\"https://dn-lbstatics.qbox.me/busuanzi/2.3/busuanzi.pure.mini.js\"></script>\\n\\n\\n\\n   <!-- 使用 DISQUS js 代码 -->\\n\\n\\n\\n\\n\\n    <!-- Swiftye -->\\n    \\n\\n    <!-- Local Search-->\\n    \\n        <script type=\"text/ls-javascript\" id=\"search-local-js-script\">\\n    var searchFunc = function(path, search_id, content_id) {\\n        \\'use strict\\';\\n        $.ajax({\\n            url: path,\\n            dataType: \\'xml\\',\\n            success: function( xmlResponse ) {\\n                // get the contents from search data\\n                var datas = $( \\'entry\\', xmlResponse ).map(function() {\\n                    return {\\n                        title: $( \\'title\\', this ).text(),\\n                        content: $(\\'content\\',this).text(),\\n                        url: $( \\'url\\' , this).text()\\n                    };\\n                }).get();\\n                var $input = document.getElementById(search_id);\\n                var $resultContent = document.getElementById(content_id);\\n                $input.addEventListener(\\'input\\', function() {\\n                    var str=\\'<ul class=\\\\\"search-result-list\\\\\">\\';\\n                    var keywords = this.value.trim().toLowerCase().split(/[\\\\s\\\\-]+/);\\n                    $resultContent.innerHTML = \\'\\';\\n                    if (this.value.trim().length <= 0) {\\n                        return;\\n                    }\\n                    // perform local searching\\n                    datas.forEach(function(data) {\\n                        var isMatch = true;\\n                        var content_index = [];\\n                        var data_title = data.title.trim().toLowerCase();\\n                        var data_content = data.content.trim().replace(/<[^>]+>/g,\\'\\').toLowerCase();\\n                        var data_url = data.url;\\n                        var index_title = -1;\\n                        var index_content = -1;\\n                        var first_occur = -1;\\n                        // only match artiles with not empty titles and contents\\n                        if(data_title !== \\'\\' && data_content !== \\'\\') {\\n                            keywords.forEach(function(keyword, i) {\\n                                index_title = data_title.indexOf(keyword);\\n                                index_content = data_content.indexOf(keyword);\\n                                if( index_title < 0 && index_content < 0 ) {\\n                                    isMatch = false;\\n                                } else {\\n                                    if (index_content < 0) {\\n                                        index_content = 0;\\n                                    }\\n                                    if (i === 0) {\\n                                        first_occur = index_content;\\n                                    }\\n                                }\\n                            });\\n                        }\\n                        // show search results\\n                        if (isMatch) {\\n                            str += \\'<li><a href=\"\\'+ data_url +\\'\" class=\"search-result-title\" target=\"_blank\">\\'+ data_title;\\n                            var content = data.content.trim().replace(/<[^>]+>/g, \\'\\');\\n                            if (first_occur >= 0) {\\n                                // cut out characters\\n                                var start = first_occur - 6;\\n                                var end = first_occur + 6;\\n                                if (start < 0) {\\n                                    start = 0;\\n                                }\\n                                if (start === 0) {\\n                                    end = 10;\\n                                }\\n                                if (end > content.length) {\\n                                    end = content.length;\\n                                }\\n                                var match_content = content.substr(start, end);\\n                                // highlight all keywords\\n                                keywords.forEach(function(keyword) {\\n                                    var regS = new RegExp(keyword, \\'gi\\');\\n                                    match_content = match_content.replace(regS, \\'<em class=\"search-keyword\">\\'+keyword+\\'</em>\\');\\n                                })\\n                                str += \\'<p class=\"search-result\">\\' + match_content + \\'...</p>\\' +\\'</a>\\';\\n                            }\\n                        }\\n                    });\\n                    $resultContent.innerHTML = str;\\n                });\\n            }\\n        });\\n    }\\n</script>\\n\\n\\n        <script type=\"text/ls-javascript\" id=\"search-input-script\">\\n            var inputArea = document.querySelector(\\'#search\\');\\n            var getSearchFile = function() {\\n                var path = \\'search.xml\\';\\n                searchFunc(path, \\'search\\', \\'local-search-result\\');\\n            }\\n\\n            if(inputArea) {\\n                inputArea.onfocus = function() {\\n                    getSearchFile();\\n                }\\n            }\\n        </script>\\n    \\n\\n\\n<!-- UC Browser Compatible -->\\n<script>\\n\\tvar agent = navigator.userAgent.toLowerCase();\\n\\tif(agent.indexOf(\\'ucbrowser\\')>0) {\\n\\t\\tdocument.write(\\'<link rel=\"stylesheet\" href=\"/css/uc.css\">\\');\\n\\t   alert(\\'由于 UC 浏览器使用极旧的内核，而本网站使用了一些新的特性。\\\\n为了您能更好的浏览，推荐使用 Chrome 或 Firefox 浏览器。\\');\\n\\t}\\n</script>\\n\\n<!-- Import prettify js  -->\\n\\n\\n\\n<!-- Window Load -->\\n<!-- add class for prettify -->\\n<script type=\"text/ls-javascript\" id=\"window-load\">\\n    $(window).on(\\'load\\', function() {\\n        // Post_Toc parent position fixed\\n        $(\\'.post-toc-wrap\\').parent(\\'.mdl-menu__container\\').css(\\'position\\', \\'fixed\\');\\n    });\\n\\n    \\n    \\n</script>\\n\\n<!-- MathJax Load-->\\n\\n\\n<!-- Bing Background -->\\n\\n\\n<script type=\"text/ls-javascript\" id=\"lazy-load\">\\n    // Offer LazyLoad\\n    queue.offer(function(){\\n        $(\\'.lazy\\').lazyload({\\n            effect : \\'show\\'\\n        });\\n    });\\n\\n    // Start Queue\\n    $(document).ready(function(){\\n        setInterval(function(){\\n            queue.execNext();\\n        },200);\\n    });\\n</script>\\n\\n<!-- Custom Footer -->\\n\\n\\n\\n<script>\\n    (function(){\\n        var scriptList = document.querySelectorAll(\\'script[type=\"text/ls-javascript\"]\\')\\n\\n        for (var i = 0; i < scriptList.length; ++i) {\\n            var item = scriptList[i];\\n            lsloader.runInlineScript(item.id,item.id);\\n        }\\n    })()\\nconsole.log(\\'\\\\n %c © Material Theme | Version: 1.5.0 | https://github.com/viosey/hexo-theme-material %c \\\\n\\', \\'color:#455a64;background:#e0e0e0;padding:5px 0;border-top-left-radius:5px;border-bottom-left-radius:5px;\\', \\'color:#455a64;background:#e0e0e0;padding:5px 0;border-top-right-radius:5px;border-bottom-right-radius:5px;\\');\\n</script>\\n\\n                </main>\\n            </div>\\n        </body>\\n    \\n</html>\\n'"
      ]
     },
     "execution_count": 26,
     "metadata": {},
     "output_type": "execute_result"
    }
   ],
   "source": [
    "r_myweb.text"
   ]
  },
  {
   "cell_type": "markdown",
   "metadata": {},
   "source": [
    "## 抓取代码通用框架"
   ]
  },
  {
   "cell_type": "markdown",
   "metadata": {
    "collapsed": true
   },
   "source": [
    "> 网络连接有**风险**，**异常处理**很重要！"
   ]
  },
  {
   "cell_type": "markdown",
   "metadata": {},
   "source": [
    "- Requests库的异常\n",
    "\n",
    "|异常|说明|\n",
    "|--------------------|-------------------------------------------------|\n",
    "|ConnectionError|网络连接异常，如DNS查询失败等等|\n",
    "|HTTPError|HTTP错误异常|\n",
    "|URLRequired|URL缺失异常|\n",
    "|TooManyRedirects|超过最大重定向次数|\n",
    "|ConnectTimeout|服务器超时异常|\n",
    "|Timeout|请求URL时造成超时异常|"
   ]
  },
  {
   "cell_type": "markdown",
   "metadata": {},
   "source": [
    "一个检验方法\n",
    "```\n",
    "r.raise_for_status\n",
    "```\n",
    "若不是200，产生异常requests.HTTPError"
   ]
  },
  {
   "cell_type": "markdown",
   "metadata": {},
   "source": [
    "- 通用代码框架\n",
    "\n",
    "```python\n",
    "import requests\n",
    "\n",
    "def getHTMLText(url):\n",
    "    try:\n",
    "        r = requests.get(url, timeout = 30)\n",
    "        r.raise_for_status() \n",
    "        % 若不是200，则触发HTTPError异常\n",
    "        r.encoding = r.apparent_encoding\n",
    "        return r.text\n",
    "    except:\n",
    "        return \"产生异常\"\n",
    "\n",
    "if __name__ == \"__main__\":\n",
    "    url = \"http://www.baidu.com\"\n",
    "    print(getHTMLText(url))\n",
    "        \n",
    "```"
   ]
  },
  {
   "cell_type": "markdown",
   "metadata": {},
   "source": [
    "- 示例"
   ]
  },
  {
   "cell_type": "code",
   "execution_count": 12,
   "metadata": {},
   "outputs": [
    {
     "name": "stdout",
     "output_type": "stream",
     "text": [
      "产生异常\n"
     ]
    }
   ],
   "source": [
    "import requests\n",
    "\n",
    "def getHTMLText(url):\n",
    "    try:\n",
    "        r = requests.get(url, timeout = 30)\n",
    "        r.raise_for_status() \n",
    "        # 若不是200，则触发HTTPError异常\n",
    "        r.encoding = r.apparent_encoding\n",
    "        return r.text\n",
    "    except:\n",
    "        return \"产生异常\"\n",
    "\n",
    "if __name__ == \"__main__\":\n",
    "    url = \"www.baidu.com\"\n",
    "    print(getHTMLText(url))"
   ]
  },
  {
   "cell_type": "markdown",
   "metadata": {},
   "source": [
    "## HTTP协议以及Requests库方法"
   ]
  },
  {
   "cell_type": "markdown",
   "metadata": {},
   "source": [
    "- HTTP协议\n",
    "\n",
    "> HTTP, Hypertext Transfer Protocol, 超文本传输协议"
   ]
  },
  {
   "cell_type": "markdown",
   "metadata": {},
   "source": [
    "1. 基于”请求与响应“\n",
    "2. 无状态的应用层协议"
   ]
  },
  {
   "cell_type": "markdown",
   "metadata": {},
   "source": [
    "- URL格式 \n",
    "```\n",
    "http://host[:port][path]\n",
    "```"
   ]
  },
  {
   "cell_type": "markdown",
   "metadata": {},
   "source": [
    "- HTTP协议的操作方式与Requests的六种方式对应"
   ]
  },
  {
   "cell_type": "markdown",
   "metadata": {},
   "source": [
    "- PATCH 与 PUT 的区别"
   ]
  },
  {
   "cell_type": "markdown",
   "metadata": {},
   "source": [
    "1. PATCH 方法只需提交部分信息\n",
    "2. PUT 方法需要提交所有信息，若不提交则为缺省删除\n",
    "3. PATCH 好处就是**节省带宽**"
   ]
  },
  {
   "cell_type": "markdown",
   "metadata": {},
   "source": [
    "- Requests库的head()方法示例"
   ]
  },
  {
   "cell_type": "code",
   "execution_count": 6,
   "metadata": {},
   "outputs": [
    {
     "data": {
      "text/plain": [
       "{'Connection': 'keep-alive', 'Server': 'meinheld/0.6.1', 'Date': 'Wed, 25 Oct 2017 04:21:11 GMT', 'Content-Type': 'application/json', 'Access-Control-Allow-Origin': '*', 'Access-Control-Allow-Credentials': 'true', 'X-Powered-By': 'Flask', 'X-Processed-Time': '0.000805854797363', 'Content-Length': '266', 'Via': '1.1 vegur'}"
      ]
     },
     "execution_count": 6,
     "metadata": {},
     "output_type": "execute_result"
    }
   ],
   "source": [
    "r = requests.head('http://httpbin.org/get')\n",
    "r.headers"
   ]
  },
  {
   "cell_type": "code",
   "execution_count": 7,
   "metadata": {},
   "outputs": [
    {
     "data": {
      "text/plain": [
       "''"
      ]
     },
     "execution_count": 7,
     "metadata": {},
     "output_type": "execute_result"
    }
   ],
   "source": [
    "r.text"
   ]
  },
  {
   "cell_type": "markdown",
   "metadata": {},
   "source": [
    "- Requests库的post()方法示例"
   ]
  },
  {
   "cell_type": "code",
   "execution_count": 11,
   "metadata": {},
   "outputs": [
    {
     "name": "stdout",
     "output_type": "stream",
     "text": [
      "{\n",
      "  \"args\": {}, \n",
      "  \"data\": \"\", \n",
      "  \"files\": {}, \n",
      "  \"form\": {\n",
      "    \"key1\": \"value1\", \n",
      "    \"key2\": \"value2\"\n",
      "  }, \n",
      "  \"headers\": {\n",
      "    \"Accept\": \"*/*\", \n",
      "    \"Accept-Encoding\": \"gzip, deflate\", \n",
      "    \"Connection\": \"close\", \n",
      "    \"Content-Length\": \"23\", \n",
      "    \"Content-Type\": \"application/x-www-form-urlencoded\", \n",
      "    \"Host\": \"httpbin.org\", \n",
      "    \"User-Agent\": \"python-requests/2.14.2\"\n",
      "  }, \n",
      "  \"json\": null, \n",
      "  \"origin\": \"111.187.30.29\", \n",
      "  \"url\": \"http://httpbin.org/post\"\n",
      "}\n",
      "\n"
     ]
    }
   ],
   "source": [
    "payload = {'key1': 'value1', 'key2': 'value2'} \n",
    "# 提交一个字典，自动编码为form表单\n",
    "r = requests.post('http://httpbin.org/post', data = payload)\n",
    "print(r.text)"
   ]
  },
  {
   "cell_type": "markdown",
   "metadata": {},
   "source": [
    "## Requests库主要方法解析"
   ]
  },
  {
   "cell_type": "markdown",
   "metadata": {},
   "source": [
    "### request方法"
   ]
  },
  {
   "cell_type": "markdown",
   "metadata": {},
   "source": [
    "代码形式\n",
    "```python\n",
    "requests.request(method, url, **kwargs)\n",
    "```"
   ]
  },
  {
   "cell_type": "markdown",
   "metadata": {},
   "source": [
    " `method`: 请求方式\n",
    "    \n",
    "包括'GET', 'HEAD', 'POST', 'PUT', 'PATCH', 'delete', 'OPTIONS'\n",
    "\n",
    "\n",
    " `**kwargs`: 控制访问的参数，均为可选项"
   ]
  },
  {
   "cell_type": "markdown",
   "metadata": {},
   "source": [
    "- **params**：字典或字节序列，作为参数添加到url中"
   ]
  },
  {
   "cell_type": "code",
   "execution_count": 15,
   "metadata": {},
   "outputs": [
    {
     "name": "stdout",
     "output_type": "stream",
     "text": [
      "https://python123.io/ws?key1=value1&key2=value2\n"
     ]
    }
   ],
   "source": [
    "kv = {'key1': 'value1', 'key2': 'value2'}\n",
    "r = requests.request('GET', 'http://python123.io/ws', params = kv)\n",
    "print(r.url)"
   ]
  },
  {
   "cell_type": "markdown",
   "metadata": {},
   "source": [
    "- **data**：字典、字节序列或文件对象，作为Request的内容"
   ]
  },
  {
   "cell_type": "code",
   "execution_count": 16,
   "metadata": {
    "collapsed": true
   },
   "outputs": [],
   "source": [
    "kv = {'key1': 'value1', 'key2': 'value2'}\n",
    "r = requests.request('POST', 'http://python123.io/ws', data = kv)"
   ]
  },
  {
   "cell_type": "markdown",
   "metadata": {},
   "source": [
    "- **json**：JSON格式的数据，作为Request的内容"
   ]
  },
  {
   "cell_type": "code",
   "execution_count": 17,
   "metadata": {
    "collapsed": true
   },
   "outputs": [],
   "source": [
    "kv = {'key1': 'value1'}\n",
    "r = requests.request('POST', 'http://python123.io/ws', json = kv)"
   ]
  },
  {
   "cell_type": "markdown",
   "metadata": {},
   "source": [
    "- **headers**：字典，HTTP定制头"
   ]
  },
  {
   "cell_type": "code",
   "execution_count": 24,
   "metadata": {
    "collapsed": true
   },
   "outputs": [],
   "source": [
    "hd = {'user-agent': 'Chrome/10'}\n",
    "# Chrome10作为访问的内核\n",
    "r = requests.request('POST', 'http://python123.io/ws', headers = hd)"
   ]
  },
  {
   "cell_type": "markdown",
   "metadata": {},
   "source": [
    "- cookie；可以是cookieJar或者是字典，Request中的cookie\n",
    "- files：字典类型，传输文件（可以用于提交文件\n",
    "\n",
    "```python\n",
    "fs = {'file': open('data.xls', 'rb')}\n",
    "r = requests.request('POST', 'HTTP://', files = fs)\n",
    "```\n",
    "\n",
    "- proxies：字典类型，设置访问代理服务器"
   ]
  },
  {
   "cell_type": "markdown",
   "metadata": {},
   "source": [
    "### get方法（重点掌握！）"
   ]
  },
  {
   "cell_type": "markdown",
   "metadata": {},
   "source": [
    "代码形式\n",
    "```\n",
    "requests.get(url, params = None, **kwargs)\n",
    "```"
   ]
  },
  {
   "cell_type": "markdown",
   "metadata": {},
   "source": [
    "### 其他方法"
   ]
  },
  {
   "cell_type": "markdown",
   "metadata": {},
   "source": [
    "- head方法\n",
    "```\n",
    "request.head(url, **kwargs)\n",
    "```\n",
    "\n",
    "- post方法\n",
    "```\n",
    "request.post(url, data = None, json = None, **kwargs)\n",
    "```\n",
    "\n",
    "- put方法\n",
    "```\n",
    "request.put(url, data = None, **kwargs)\n",
    "```\n",
    "\n",
    "- delete方法\n",
    "```\n",
    "request.delete(url, **kwargs)\n",
    "```"
   ]
  },
  {
   "cell_type": "markdown",
   "metadata": {
    "heading_collapsed": true
   },
   "source": [
    "## 单元小练习"
   ]
  },
  {
   "cell_type": "markdown",
   "metadata": {
    "hidden": true
   },
   "source": [
    "> **Requests库的爬取性能分析**\n",
    "\n",
    "> 尽管Requests库功能很友好、开发简单（其实除了import外只需一行主要代码），但其性能与专业爬虫相比还是有一定差距的。请编写一个小程序，“任意”找个url，测试一下成功爬取100次网页的时间。"
   ]
  },
  {
   "cell_type": "code",
   "execution_count": 34,
   "metadata": {
    "code_folding": [],
    "hidden": true
   },
   "outputs": [
    {
     "name": "stdout",
     "output_type": "stream",
     "text": [
      "0\n",
      "1\n",
      "2\n",
      "3\n",
      "4\n",
      "5\n",
      "6\n",
      "7\n",
      "8\n",
      "9\n",
      "10\n",
      "11\n",
      "12\n",
      "13\n",
      "14\n",
      "15\n",
      "16\n",
      "17\n",
      "18\n",
      "19\n",
      "20\n",
      "21\n",
      "22\n",
      "23\n",
      "24\n",
      "25\n",
      "26\n",
      "27\n",
      "28\n",
      "29\n",
      "30\n",
      "31\n",
      "32\n",
      "33\n",
      "34\n",
      "35\n",
      "36\n",
      "37\n",
      "38\n",
      "39\n",
      "40\n",
      "41\n",
      "42\n",
      "43\n",
      "44\n",
      "45\n",
      "46\n",
      "47\n",
      "48\n",
      "49\n",
      "50\n",
      "51\n",
      "52\n",
      "53\n",
      "54\n",
      "55\n",
      "56\n",
      "57\n",
      "58\n",
      "59\n",
      "60\n",
      "61\n",
      "62\n",
      "63\n",
      "64\n",
      "65\n",
      "66\n",
      "67\n",
      "68\n",
      "69\n",
      "70\n",
      "71\n",
      "72\n",
      "73\n",
      "74\n",
      "75\n",
      "76\n",
      "77\n",
      "78\n",
      "79\n",
      "80\n",
      "81\n",
      "82\n",
      "83\n",
      "84\n",
      "85\n",
      "86\n",
      "87\n",
      "88\n",
      "89\n",
      "90\n",
      "91\n",
      "92\n",
      "93\n",
      "94\n",
      "95\n",
      "96\n",
      "97\n",
      "98\n",
      "99\n",
      "爬取时间为：64.698s\n"
     ]
    }
   ],
   "source": [
    "import requests\n",
    "import time\n",
    " \n",
    "def getHTMLText(url):\n",
    "    try:\n",
    "        r = requests.get(url)\n",
    "        r.raise_for_status()\n",
    "        r.encoding = r.apparent_encoding\n",
    "        return r.text\n",
    "    except:\n",
    "        return ''\n",
    " \n",
    "def main():\n",
    "    start = time.time()\n",
    "    for i in range(100):\n",
    "        getHTMLText('http://www.pku.edu.cn/')\n",
    "        print(i)\n",
    "    stop = time.time()\n",
    " \n",
    "    print('爬取时间为：{:.3f}s'.format(stop - start))\n",
    " \n",
    "main()"
   ]
  },
  {
   "cell_type": "code",
   "execution_count": 39,
   "metadata": {
    "hidden": true
   },
   "outputs": [
    {
     "name": "stdout",
     "output_type": "stream",
     "text": [
      "运行时间为：4.362154006958008s\n"
     ]
    }
   ],
   "source": [
    "# 下载baidu首页100次，测试时间\n",
    "import time\n",
    "import requests\n",
    " \n",
    "start = time.time()\n",
    "for i in range(100):\n",
    "    try:\n",
    "        r = requests.get(\"http://www.baidu.com\")\n",
    "        r.raise_for_status()\n",
    "        r.encoding = r.apparent_encoding\n",
    "    except:\n",
    "        print(\"Error\")\n",
    "stop = time.time()\n",
    "print(\"运行时间为：{}s\".format(stop - start))"
   ]
  },
  {
   "cell_type": "markdown",
   "metadata": {},
   "source": [
    "# 网络爬虫的盗亦有道"
   ]
  },
  {
   "cell_type": "markdown",
   "metadata": {
    "collapsed": true
   },
   "source": [
    "## 网络爬虫引发的问题"
   ]
  },
  {
   "cell_type": "markdown",
   "metadata": {},
   "source": [
    "- 网络爬虫的尺寸\n",
    "\n",
    "|情况|适合函数库|应用|\n",
    "|-----------------------------------------|:---------------:|---------------------------:|\n",
    "|小规模，数据量小，对于速度不敏感|Requests库|爬取、玩转网页|\n",
    "|中规模，数据量较大，爬取速度敏感|Scrapy库|爬取系列网站|\n",
    "|搜索引擎爬取速度关键|定制开发|爬取全网|"
   ]
  },
  {
   "cell_type": "markdown",
   "metadata": {},
   "source": [
    "- 网络爬虫的限制\n",
    "\n",
    "**来源审查**：判断User-Agent进行限制\n",
    "\n",
    "有可能只响应浏览器或友好爬虫的访问\n",
    "\n",
    "\n",
    "**发布公告**：Robots协议\n",
    "\n",
    "要求爬取遵守相关策略"
   ]
  },
  {
   "cell_type": "markdown",
   "metadata": {},
   "source": [
    "## Robots协议"
   ]
  },
  {
   "cell_type": "markdown",
   "metadata": {},
   "source": [
    "协议全名：*Robots Exclusion Standard* 网络爬虫排除标准"
   ]
  },
  {
   "cell_type": "markdown",
   "metadata": {},
   "source": [
    "- 作用：告知哪些允许可以被爬虫，哪些不行\n",
    "- 形式：在网站根目录下的robots.txt文件"
   ]
  },
  {
   "cell_type": "markdown",
   "metadata": {},
   "source": [
    "- 案例：[京东的Robots协议](https://www.jd.com/robots.txt)"
   ]
  },
  {
   "cell_type": "markdown",
   "metadata": {},
   "source": [
    "```\n",
    "User-agent: * \n",
    "Disallow: /?* \n",
    "Disallow: /pop/*.html \n",
    "Disallow: /pinpai/*.html?* \n",
    "User-agent: EtaoSpider \n",
    "Disallow: / \n",
    "User-agent: HuihuiSpider \n",
    "Disallow: / \n",
    "User-agent: GwdangSpider \n",
    "Disallow: / \n",
    "User-agent: WochachaSpider \n",
    "Disallow: /\n",
    "```"
   ]
  },
  {
   "cell_type": "markdown",
   "metadata": {},
   "source": [
    "1. 不允许第2~4行类似的网页\n",
    "2. 后面四种爬虫不被允许"
   ]
  },
  {
   "cell_type": "markdown",
   "metadata": {},
   "source": [
    "- 类似网址的Robots协议（放在**根目录**下！）\n",
    "\n",
    "<http://www.baidu.com/robots.txt>\n",
    "\n",
    "<http:/news.sina.com.cn/robots.txt>\n",
    "\n",
    "<http://www.qq.com/robots.txt>\n",
    "\n",
    "<http://news.qq.com/robots.txt>"
   ]
  },
  {
   "cell_type": "markdown",
   "metadata": {},
   "source": [
    "## Robots协议的遵守方式"
   ]
  },
  {
   "cell_type": "markdown",
   "metadata": {},
   "source": [
    "- 网络爬虫：\n",
    "\n",
    "自动或人工识别robots.txt，再进行内容爬取\n",
    "\n",
    "- 约束性：\n",
    "\n",
    "Robots协议是建议但非约束性，网络爬虫可以不遵守，但存在法律风险"
   ]
  },
  {
   "cell_type": "markdown",
   "metadata": {},
   "source": [
    "# Requests网络爬虫实战"
   ]
  },
  {
   "cell_type": "markdown",
   "metadata": {
    "collapsed": true
   },
   "source": [
    "## 实例1：京东商品页面爬取"
   ]
  },
  {
   "cell_type": "code",
   "execution_count": 4,
   "metadata": {},
   "outputs": [
    {
     "data": {
      "text/plain": [
       "200"
      ]
     },
     "execution_count": 4,
     "metadata": {},
     "output_type": "execute_result"
    }
   ],
   "source": [
    "import requests\n",
    "r = requests.get('http://item.jd.com/188078.html')\n",
    "r.status_code"
   ]
  },
  {
   "cell_type": "code",
   "execution_count": 5,
   "metadata": {},
   "outputs": [
    {
     "data": {
      "text/plain": [
       "'gbk'"
      ]
     },
     "execution_count": 5,
     "metadata": {},
     "output_type": "execute_result"
    }
   ],
   "source": [
    "r.encoding"
   ]
  },
  {
   "cell_type": "code",
   "execution_count": 6,
   "metadata": {},
   "outputs": [
    {
     "data": {
      "text/plain": [
       "'<!-- shouji -->\\n<!DOCTYPE HTML>\\n<html lang=\"zh-CN\">\\n<head>\\n    <meta http-equiv=\"Content-Type\" content=\"text/html; charset=gbk\" />\\n    <title>【洗颜专科洁面乳】资生堂洗颜专科 柔澈泡沫 洁面乳 120g（日本原装进口洗面奶）【行情 报价 价格 评测】-京东</title>\\n    <meta name=\"keywords\" content=\"洗颜专科洁面乳,洗颜专科洁面乳,洗颜专科洁面乳报价,洗颜专科洁面乳报价\"/>\\n    <meta name=\"description\" content=\"【洗颜专科洁面乳】京东JD.COM提供洗颜专科洁面乳正品行货，并包括洗颜专科洁面乳网购指南，以及洗颜专科洁面乳图片、洁面乳参数、洁面乳评论、洁面乳心得、洁面乳技巧等信息，网购洗颜专科洁面乳上京东,放心又轻松\" />\\n    <meta name=\"format-detection\" content=\"telephone=no\">\\n    <meta http-equiv=\"mobile-agent\" content=\"format=xhtml; url=//item.m.jd.com/product/188078.html\">\\n    <meta http-equiv=\"mobile-agent\" content=\"format=html5; url=//item.m.jd.com/product/188078.html\">\\n    <meta http-equiv=\"X-UA-Compatible\" content=\"IE=Edge\">\\n    <link rel=\"canonical\" href=\"//item.jd.com/188078.html\"/>\\n        <link rel=\"dns-prefetch\" href=\"//misc.360buyimg.com\"/>\\n    <link rel=\"dns-prefetch\" href=\"//static.360buyimg.com\"/>\\n    <link rel=\"dns-prefetch\" href=\"//img10.360buyimg.com\"/>\\n    <link'"
      ]
     },
     "execution_count": 6,
     "metadata": {},
     "output_type": "execute_result"
    }
   ],
   "source": [
    "r.text[:1000]"
   ]
  },
  {
   "cell_type": "markdown",
   "metadata": {},
   "source": [
    "- 整体代码框架\n",
    "\n",
    "```python\n",
    "import requests\n",
    "url = \"http://item.jd.com/188078.html\"\n",
    "try:\n",
    "    r = requests.get(url)\n",
    "    r.raise_for_status()\n",
    "    r.encoding = r.apparent_encoding\n",
    "    print(r.text[:1000])\n",
    "except:\n",
    "    print(\"爬取失败\")\n",
    "```"
   ]
  },
  {
   "cell_type": "code",
   "execution_count": 7,
   "metadata": {},
   "outputs": [
    {
     "name": "stdout",
     "output_type": "stream",
     "text": [
      "<!-- shouji -->\n",
      "<!DOCTYPE HTML>\n",
      "<html lang=\"zh-CN\">\n",
      "<head>\n",
      "    <meta http-equiv=\"Content-Type\" content=\"text/html; charset=gbk\" />\n",
      "    <title>【洗颜专科洁面乳】资生堂洗颜专科 柔澈泡沫 洁面乳 120g（日本原装进口洗面奶）【行情 报价 价格 评测】-京东</title>\n",
      "    <meta name=\"keywords\" content=\"洗颜专科洁面乳,洗颜专科洁面乳,洗颜专科洁面乳报价,洗颜专科洁面乳报价\"/>\n",
      "    <meta name=\"description\" content=\"【洗颜专科洁面乳】京东JD.COM提供洗颜专科洁面乳正品行货，并包括洗颜专科洁面乳网购指南，以及洗颜专科洁面乳图片、洁面乳参数、洁面乳评论、洁面乳心得、洁面乳技巧等信息，网购洗颜专科洁面乳上京东,放心又轻松\" />\n",
      "    <meta name=\"format-detection\" content=\"telephone=no\">\n",
      "    <meta http-equiv=\"mobile-agent\" content=\"format=xhtml; url=//item.m.jd.com/product/188078.html\">\n",
      "    <meta http-equiv=\"mobile-agent\" content=\"format=html5; url=//item.m.jd.com/product/188078.html\">\n",
      "    <meta http-equiv=\"X-UA-Compatible\" content=\"IE=Edge\">\n",
      "    <link rel=\"canonical\" href=\"//item.jd.com/188078.html\"/>\n",
      "        <link rel=\"dns-prefetch\" href=\"//misc.360buyimg.com\"/>\n",
      "    <link rel=\"dns-prefetch\" href=\"//static.360buyimg.com\"/>\n",
      "    <link rel=\"dns-prefetch\" href=\"//img10.360buyimg.com\"/>\n",
      "    <link\n"
     ]
    }
   ],
   "source": [
    "import requests\n",
    "url = \"http://item.jd.com/188078.html\"\n",
    "try:\n",
    "    r = requests.get(url)\n",
    "    r.raise_for_status\n",
    "    r.encoding = r.apparent_encoding\n",
    "    print(r.text[:1000])\n",
    "except:\n",
    "    print(\"爬取失败\")"
   ]
  },
  {
   "cell_type": "markdown",
   "metadata": {},
   "source": [
    "## 亚马逊商品页面爬取"
   ]
  },
  {
   "cell_type": "code",
   "execution_count": 17,
   "metadata": {},
   "outputs": [
    {
     "data": {
      "text/plain": [
       "200"
      ]
     },
     "execution_count": 17,
     "metadata": {},
     "output_type": "execute_result"
    }
   ],
   "source": [
    "import requests\n",
    "r = requests.get(\"https://www.amazon.cn/dp/0007136838\")\n",
    "r.status_code"
   ]
  },
  {
   "cell_type": "code",
   "execution_count": 26,
   "metadata": {},
   "outputs": [
    {
     "data": {
      "text/plain": [
       "{'User-Agent': 'python-requests/2.14.2', 'Accept-Encoding': 'gzip, deflate', 'Accept': '*/*', 'Connection': 'keep-alive'}"
      ]
     },
     "execution_count": 26,
     "metadata": {},
     "output_type": "execute_result"
    }
   ],
   "source": [
    "r.request.headers"
   ]
  },
  {
   "cell_type": "code",
   "execution_count": 28,
   "metadata": {},
   "outputs": [
    {
     "data": {
      "text/plain": [
       "{'user-agent': 'Mozilla/5.0', 'Accept-Encoding': 'gzip, deflate', 'Accept': '*/*', 'Connection': 'keep-alive'}"
      ]
     },
     "execution_count": 28,
     "metadata": {},
     "output_type": "execute_result"
    }
   ],
   "source": [
    "key = {'user-agent':'Mozilla/5.0'}\n",
    "r = requests.get(\"https://www.amazon.cn/dp/0007136838\", headers = key)\n",
    "r.request.headers"
   ]
  },
  {
   "cell_type": "markdown",
   "metadata": {},
   "source": [
    "有些网页可能会拒绝，那么需要改变`user-agent`字段"
   ]
  },
  {
   "cell_type": "markdown",
   "metadata": {},
   "source": [
    "- 整体代码框架\n",
    "```python\n",
    "import requests\n",
    "url = \n",
    "try:\n",
    "    kv = {'user-agent': 'Mozilla/5.0'}\n",
    "    r = requests.get(url, headers = kv)\n",
    "    r.raise_for_status()\n",
    "    r.encoding = r.apparent_encoding\n",
    "    print(r.text[100:2000])\n",
    "except:\n",
    "    print(\"爬取失败\")\n",
    "```"
   ]
  },
  {
   "cell_type": "markdown",
   "metadata": {},
   "source": [
    "## 百度/360搜索关键字提交"
   ]
  },
  {
   "cell_type": "markdown",
   "metadata": {},
   "source": [
    "**对应网址：**\n",
    "\n",
    "|网址|主站|搜索接口|\n",
    "|-----------|-------------------------|-------------------------------------|\n",
    "|百度|http://www.baidu.com|http://www.baidu.com/s?wd=keyword|\n",
    "|360|http://www.so.com|http://www.so.com/s?q=keyword|\n"
   ]
  },
  {
   "cell_type": "markdown",
   "metadata": {},
   "source": [
    "- 百度搜索全代码\n",
    "```python\n",
    "import requests\n",
    "keyword = 'Python'\n",
    "try:\n",
    "    kv = {'wd':keyword}\n",
    "    r = requests.get('http://www.baidu.com/s', params = kv)\n",
    "    print(r.request.url)\n",
    "    r.raise_for_status()\n",
    "    print(len(r.text))\n",
    "except:\n",
    "    print(\"爬取失败\")\n",
    "```"
   ]
  },
  {
   "cell_type": "code",
   "execution_count": 30,
   "metadata": {},
   "outputs": [
    {
     "name": "stdout",
     "output_type": "stream",
     "text": [
      "http://www.baidu.com/s?wd=Python\n",
      "326253\n"
     ]
    }
   ],
   "source": [
    "import requests\n",
    "keyword = 'Python'\n",
    "try:\n",
    "    kv = {'wd':keyword}\n",
    "    r = requests.get('http://www.baidu.com/s', params = kv)\n",
    "    print(r.request.url)\n",
    "    r.raise_for_status()\n",
    "    print(len(r.text))\n",
    "except:\n",
    "    print(\"爬取失败\")"
   ]
  },
  {
   "cell_type": "markdown",
   "metadata": {},
   "source": [
    "## 网络图片的爬取和储存"
   ]
  },
  {
   "cell_type": "markdown",
   "metadata": {},
   "source": [
    "- 流程"
   ]
  },
  {
   "cell_type": "code",
   "execution_count": 31,
   "metadata": {},
   "outputs": [
    {
     "data": {
      "text/plain": [
       "200"
      ]
     },
     "execution_count": 31,
     "metadata": {},
     "output_type": "execute_result"
    }
   ],
   "source": [
    "import requests\n",
    "path = \"D:/123.jpg\"\n",
    "# 确定写入的路径\n",
    "url = \"http://web.mit.edu/files/images/homepage/default/mit_spotlight.jpg\"\n",
    "jpg_get = requests.get(url)\n",
    "jpg_get.status_code"
   ]
  },
  {
   "cell_type": "code",
   "execution_count": 34,
   "metadata": {
    "collapsed": true
   },
   "outputs": [],
   "source": [
    "with open(path, 'wb') as f:\n",
    "    f.write(jpg_get.content)\n",
    "# 因为图片属于二进制文件，需要以二进制方式写入"
   ]
  },
  {
   "cell_type": "markdown",
   "metadata": {},
   "source": [
    "即可写入\n",
    "<img src=\"http://web.mit.edu/files/images/homepage/default/mit_spotlight.jpg\" width=\"400\"/>\n"
   ]
  },
  {
   "cell_type": "markdown",
   "metadata": {},
   "source": [
    "- 全代码\n",
    "```python\n",
    "import requests\n",
    "import os\n",
    "url = \"http://web.mit.edu/files/images/homepage/default/mit_spotlight.jpg\"\n",
    "root = \"D://pics//\"\n",
    "# 给定一个根目录\n",
    "path = root + url.split('/')[-1]\n",
    "# 反斜杠分隔的最后一个部分，与最后一个部分相同\n",
    "try:\n",
    "    if not os.path.exists(root):\n",
    "        os.mkdir(root)\n",
    "        # 建立根目录\n",
    "    if not os.path.exists(path):\n",
    "        r = requests.get(url)\n",
    "        with open(path, 'wb') as f:\n",
    "            f.write(r.content)\n",
    "            f.close()\n",
    "            print(\"文件保存成功\")\n",
    "    else:\n",
    "        print(\"文件已存在\")\n",
    "except:\n",
    "    print(\"爬取失败\")\n",
    "```"
   ]
  },
  {
   "cell_type": "code",
   "execution_count": 36,
   "metadata": {},
   "outputs": [
    {
     "name": "stdout",
     "output_type": "stream",
     "text": [
      "文件保存成功\n"
     ]
    }
   ],
   "source": [
    "import requests\n",
    "import os\n",
    "url = \"http://web.mit.edu/files/images/homepage/default/mit_spotlight.jpg\"\n",
    "root = \"D://pics//\"\n",
    "path = root + url.split('/')[-1]\n",
    "try:\n",
    "    if not os.path.exists(root):\n",
    "        os.mkdir(root)\n",
    "    if not os.path.exists(path):\n",
    "        r = requests.get(url)\n",
    "        with open(path, 'wb') as f:\n",
    "            f.write(r.content)\n",
    "            f.close()\n",
    "            print(\"文件保存成功\")\n",
    "    else:\n",
    "        print(\"文件已存在\")\n",
    "except:\n",
    "    print(\"爬取失败\")"
   ]
  },
  {
   "cell_type": "markdown",
   "metadata": {},
   "source": [
    "- 应用\n",
    "\n",
    "爬取类似**flash**、**视频**、**音乐**"
   ]
  },
  {
   "cell_type": "markdown",
   "metadata": {},
   "source": [
    "## IP地址归属地的自动查询"
   ]
  },
  {
   "cell_type": "markdown",
   "metadata": {},
   "source": [
    "- 想法来源，可以借助<http://www.ip138.com/>来进行提交并返回结果\n",
    "对应接口：<http://www.ip138.com/ips138.asp?ip=XXX>"
   ]
  },
  {
   "cell_type": "code",
   "execution_count": 38,
   "metadata": {},
   "outputs": [
    {
     "data": {
      "text/plain": [
       "200"
      ]
     },
     "execution_count": 38,
     "metadata": {},
     "output_type": "execute_result"
    }
   ],
   "source": [
    "import requests\n",
    "url = \"http://www.ip138.com/ips138.asp?ip=\"\n",
    "r = requests.get(url + '222.66.182.32')\n",
    "r.status_code"
   ]
  },
  {
   "cell_type": "code",
   "execution_count": 48,
   "metadata": {},
   "outputs": [
    {
     "data": {
      "text/plain": [
       "'ip\" />\\r\\n</form>\\r\\n<table width=\"80%\"  border=\"0\" align=\"center\" cellpadding=\"0\" cellspacing=\"0\">\\r\\n\\t<tr>\\r\\n\\t\\t<td align=\"center\"><h3>ip138.com IP查询(搜索IP地址的地理位置)</h3></td>\\r\\n\\t</tr>\\r\\n\\t<tr>\\r\\n\\t\\t<td align=\"center\"><h1>您查询的IP:222.66.182.32</h1></td>\\r\\n\\t</tr>\\r\\n\\t<tr>\\r\\n\\t\\t<td align=\"center\"><ul class=\"ul1\"><li>本站数据：上海市杨浦区 同济大学 电信</li><li>参考数据1：上海上海  电信</li><li>参考数据2：上海市 电信</li></ul></td>\\r\\n\\t</tr>\\r\\n\\t<tr>\\r\\n\\t\\t<td align=\"center\"><a href=\"/idc/\" target=\"_blank\"><b><font color=\"red\">idc公司大全</font></b></a> | <a href=\"http://user.ip138.com/ip/\" target=\"_blank\"><b>ip查询接口</b></a></td>\\r\\n\\t</tr>\\r\\n\\t<tr>\\r\\n\\t\\t<td align=\"center\">如果您发现查询结果不详细或不正确，请使用<a href=\"ip_add.asp?ip=222.66.182.32\"><font color=\"#006600\"><b>IP数据库自助添加</b></font></a>功能进行修正<br/><br/>\\r\\n<p align=\"center\">\\r\\n<div align=\"center\">\\r\\n\\r\\n<script type=\"text/javascript\">\\r\\nvar cpro_id = \"u2962614\";\\r\\n</script>\\r\\n<script type=\"text/javascript\" src=\"http://cpro.baidustatic.com/cpro/ui/c.js\"></script>\\r\\n\\r\\n</div>\\r\\n</p>\\r\\n<br/></td>\\r\\n\\t</tr>\\r\\n\\t<form method=\"get\" action=\"ips1388.asp\" name=\"ipform\" onsubmit=\"return checkIP();\">\\r\\n\\t<tr>\\r\\n\\t\\t<td align=\"center\">IP地址或者域名：<input type=\"text\" name=\"ip\" size=\"16\"> <input type=\"submit\" value=\"查询\"><input type=\"hidden\" name=\"action\" value=\"2\"></td>\\r\\n\\t</tr><br>\\r\\n<br>\\r\\n\\t</form>\\r\\n</table>\\r\\n<p align=\"center\">如发现小部分ip查询结果不正确请到官方网站<a\\r\\nhref=\"http://www.apnic.net\" rel=\"nofollow\" target=\"_blank\">http://www.apnic.net</a>查询,以apnic为准</p>\\r\\n<p align=\"center\">\\r\\n<div align=\"center\">\\r\\n\\r\\n<script type=\"text/javascript\">\\r\\nvar cpro_id = \"u2962622\";\\r\\n</script>\\r\\n<script type=\"text/javascript\" src=\"http://cpro.baidustatic.com/cpro/ui/c.js\"></script>\\r\\n\\r\\n\\r\\n</div>\\r\\n</p>\\r\\n<p align=\"center\"></a>联系我们.请<a href=\"mail.htm\" rel=\"nofollow\" target=\"_blank\">发email</a>.或给<a\\r\\nhref=\"http://qq.3533.com:8080/book.asp?siteid=7\" rel=\"nofollow\" target=\"_blank\">我们留言</a>谢谢!</p>\\r\\n<p align=\"center\">沪ICP备10013467号-1号</p>\\r\\n<div style=\"display:none\"><script type=\"text/javascript\" src=\"http://tajs.qq.com/stats?sId=36241650\" charset=\"UTF-8\"></script></div>\\r\\n</body>\\r\\n</html>'"
      ]
     },
     "execution_count": 48,
     "metadata": {},
     "output_type": "execute_result"
    }
   ],
   "source": [
    "r.encoding = r.apparent_encoding\n",
    "r.text[-2000:]"
   ]
  },
  {
   "cell_type": "markdown",
   "metadata": {},
   "source": [
    "- 范例\n",
    "```python\n",
    "import requests\n",
    "url = \"http://www.ip138.com/ips138.asp?ip=\"\n",
    "r = requests.get(url + '222.66.182.32')\n",
    "r.encoding = r.apparent_encoding\n",
    "r.text[-2000:]\n",
    "try:\n",
    "    r = requests.get(url + '222.66.182.32')\n",
    "    r.raise_for_status()\n",
    "    r.encoding = r.apparent_encoding\n",
    "    r.text[-2000:]\n",
    "except:\n",
    "    print(\"爬取失败\")\n",
    "```"
   ]
  }
 ],
 "metadata": {
  "kernelspec": {
   "display_name": "Python 3",
   "language": "python",
   "name": "python3"
  },
  "language_info": {
   "codemirror_mode": {
    "name": "ipython",
    "version": 3
   },
   "file_extension": ".py",
   "mimetype": "text/x-python",
   "name": "python",
   "nbconvert_exporter": "python",
   "pygments_lexer": "ipython3",
   "version": "3.6.1"
  },
  "toc": {
   "nav_menu": {},
   "number_sections": true,
   "sideBar": true,
   "skip_h1_title": false,
   "toc_cell": true,
   "toc_position": {
    "height": "734px",
    "left": "0px",
    "right": "1231.2px",
    "top": "126px",
    "width": "243px"
   },
   "toc_section_display": "block",
   "toc_window_display": true
  }
 },
 "nbformat": 4,
 "nbformat_minor": 2
}
